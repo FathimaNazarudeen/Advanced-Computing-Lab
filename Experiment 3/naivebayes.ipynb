{
  "nbformat": 4,
  "nbformat_minor": 0,
  "metadata": {
    "colab": {
      "name": "naivebayes.ipynb",
      "provenance": [],
      "collapsed_sections": [],
      "authorship_tag": "ABX9TyMuE9WZq/4lHZTCZyWZSmT9",
      "include_colab_link": true
    },
    "kernelspec": {
      "name": "python3",
      "display_name": "Python 3"
    },
    "language_info": {
      "name": "python"
    }
  },
  "cells": [
    {
      "cell_type": "markdown",
      "metadata": {
        "id": "view-in-github",
        "colab_type": "text"
      },
      "source": [
        "<a href=\"https://colab.research.google.com/github/FathimaNazarudeen/Advanced-Computing-Lab/blob/main/Experiment%203/naivebayes.ipynb\" target=\"_parent\"><img src=\"https://colab.research.google.com/assets/colab-badge.svg\" alt=\"Open In Colab\"/></a>"
      ]
    },
    {
      "cell_type": "code",
      "execution_count": 1,
      "metadata": {
        "id": "wz6S0h9dfKMw"
      },
      "outputs": [],
      "source": [
        "import numpy as np\n",
        "import pandas as pd"
      ]
    },
    {
      "cell_type": "code",
      "source": [
        "from sklearn.datasets import load_wine\n",
        "data=load_wine()\n",
        "x=data.data\n",
        "y=data.target"
      ],
      "metadata": {
        "id": "QqmI9kSpfSka"
      },
      "execution_count": 2,
      "outputs": []
    },
    {
      "cell_type": "code",
      "source": [
        "from sklearn.model_selection import train_test_split"
      ],
      "metadata": {
        "id": "bbDl6KNQgADZ"
      },
      "execution_count": 3,
      "outputs": []
    },
    {
      "cell_type": "code",
      "source": [
        "from sklearn.naive_bayes import GaussianNB\n",
        "from sklearn.naive_bayes import BernoulliNB\n",
        "from sklearn.naive_bayes import MultinomialNB"
      ],
      "metadata": {
        "id": "knlSd0Q0gNia"
      },
      "execution_count": 29,
      "outputs": []
    },
    {
      "cell_type": "code",
      "source": [
        "x_train,x_test,y_train,y_test=train_test_split(x,y,test_size=0.5,random_state=0)"
      ],
      "metadata": {
        "id": "jHu-dTOcgm6M"
      },
      "execution_count": 30,
      "outputs": []
    },
    {
      "cell_type": "code",
      "source": [
        "x_train"
      ],
      "metadata": {
        "colab": {
          "base_uri": "https://localhost:8080/"
        },
        "id": "nHtSv3pShMKO",
        "outputId": "c7278f95-8569-4dd0-f862-c5446e7ba016"
      },
      "execution_count": 31,
      "outputs": [
        {
          "output_type": "execute_result",
          "data": {
            "text/plain": [
              "array([[1.221e+01, 1.190e+00, 1.750e+00, ..., 1.280e+00, 3.070e+00,\n",
              "        7.180e+02],\n",
              "       [1.394e+01, 1.730e+00, 2.270e+00, ..., 1.120e+00, 3.100e+00,\n",
              "        1.260e+03],\n",
              "       [1.410e+01, 2.020e+00, 2.400e+00, ..., 1.070e+00, 2.750e+00,\n",
              "        1.060e+03],\n",
              "       ...,\n",
              "       [1.242e+01, 1.610e+00, 2.190e+00, ..., 1.060e+00, 2.960e+00,\n",
              "        3.450e+02],\n",
              "       [1.390e+01, 1.680e+00, 2.120e+00, ..., 9.100e-01, 3.330e+00,\n",
              "        9.850e+02],\n",
              "       [1.416e+01, 2.510e+00, 2.480e+00, ..., 6.200e-01, 1.710e+00,\n",
              "        6.600e+02]])"
            ]
          },
          "metadata": {},
          "execution_count": 31
        }
      ]
    },
    {
      "cell_type": "code",
      "source": [
        "gnb=GaussianNB()\n",
        "clf = BernoulliNB(binarize=2)\n",
        "clf1 = MultinomialNB()"
      ],
      "metadata": {
        "id": "V6fPaofchQvc"
      },
      "execution_count": 48,
      "outputs": []
    },
    {
      "cell_type": "code",
      "source": [
        "model=gnb.fit(x_train,y_train)\n",
        "model1=clf.fit(x_train,y_train)\n",
        "model2=clf1.fit(x_train,y_train)"
      ],
      "metadata": {
        "id": "uiHtwFdmhXc2"
      },
      "execution_count": 49,
      "outputs": []
    },
    {
      "cell_type": "code",
      "source": [
        "res1=model.predict(x_test)\n",
        "res2=model1.predict(x_test)\n",
        "res3=model2.predict(x_test)"
      ],
      "metadata": {
        "id": "cl_No9YJhlF5"
      },
      "execution_count": 50,
      "outputs": []
    },
    {
      "cell_type": "code",
      "source": [
        "from sklearn.metrics import accuracy_score\n"
      ],
      "metadata": {
        "id": "DwpRC94ghr-v"
      },
      "execution_count": 51,
      "outputs": []
    },
    {
      "cell_type": "code",
      "source": [
        "accuracy_1=accuracy_score(y_test,res1)\n",
        "print(\"Gaussian :\",accuracy_1*100)\n",
        "accuracy_2=accuracy_score(y_test,res2)\n",
        "print(\"Bernoulli : \",accuracy_2*100)\n",
        "accuracy_3=accuracy_score(y_test,res3)\n",
        "print(\"Multinomial : \",accuracy_3*100)\n"
      ],
      "metadata": {
        "colab": {
          "base_uri": "https://localhost:8080/"
        },
        "id": "ATRZXzj56I3i",
        "outputId": "2d1d6150-b63d-4d63-9fa7-09e846410f62"
      },
      "execution_count": 52,
      "outputs": [
        {
          "output_type": "stream",
          "name": "stdout",
          "text": [
            "Gaussian : 94.3820224719101\n",
            "Bernoulli :  75.28089887640449\n",
            "Multinomial :  89.8876404494382\n"
          ]
        }
      ]
    }
  ]
}