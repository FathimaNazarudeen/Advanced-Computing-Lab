{
  "nbformat": 4,
  "nbformat_minor": 0,
  "metadata": {
    "colab": {
      "name": "Untitled61.ipynb",
      "provenance": [],
      "authorship_tag": "ABX9TyPYsYURbxSIsCi8nRygloHu",
      "include_colab_link": true
    },
    "kernelspec": {
      "name": "python3",
      "display_name": "Python 3"
    },
    "language_info": {
      "name": "python"
    }
  },
  "cells": [
    {
      "cell_type": "markdown",
      "metadata": {
        "id": "view-in-github",
        "colab_type": "text"
      },
      "source": [
        "<a href=\"https://colab.research.google.com/github/FathimaNazarudeen/Advanced-Computing-Lab/blob/main/Experiment%201/LR_univariate.ipynb\" target=\"_parent\"><img src=\"https://colab.research.google.com/assets/colab-badge.svg\" alt=\"Open In Colab\"/></a>"
      ]
    },
    {
      "cell_type": "code",
      "execution_count": 3,
      "metadata": {
        "colab": {
          "base_uri": "https://localhost:8080/"
        },
        "id": "mQyuS2KF6Z2f",
        "outputId": "55194aaf-c33a-4fc6-9e35-d001b079f7cd"
      },
      "outputs": [
        {
          "output_type": "execute_result",
          "data": {
            "text/plain": [
              "array([497.41900852])"
            ]
          },
          "metadata": {},
          "execution_count": 3
        }
      ],
      "source": [
        "import numpy as np\n",
        "import pandas as pd\n",
        "import matplotlib.pyplot as plt\n",
        "#Create data\n",
        "from sklearn. datasets import make_regression\n",
        "data = make_regression (n_samples=10, n_features=1,\n",
        "n_targets=1,bias=15, noise=5, random_state=42)\n",
        "X= pd. DataFrame (data[0]). values\n",
        "Y= pd. Series (data[1]). values\n",
        "#Build model\n",
        "from sklearn.linear_model import LinearRegression\n",
        "lin= LinearRegression()\n",
        "#fit Model\n",
        "lin.fit (X, Y)\n",
        "#Predict\n",
        "y_pred = lin.predict (X)\n",
        "lin.predict([[25]])"
      ]
    }
  ]
}