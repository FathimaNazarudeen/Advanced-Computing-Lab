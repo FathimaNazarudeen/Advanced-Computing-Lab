{
  "nbformat": 4,
  "nbformat_minor": 0,
  "metadata": {
    "colab": {
      "name": "Untitled62.ipynb",
      "provenance": [],
      "authorship_tag": "ABX9TyMutRNTWrzinBRvWj3Da75s",
      "include_colab_link": true
    },
    "kernelspec": {
      "name": "python3",
      "display_name": "Python 3"
    },
    "language_info": {
      "name": "python"
    }
  },
  "cells": [
    {
      "cell_type": "markdown",
      "metadata": {
        "id": "view-in-github",
        "colab_type": "text"
      },
      "source": [
        "<a href=\"https://colab.research.google.com/github/FathimaNazarudeen/Advanced-Computing-Lab/blob/main/Experiment%201/LR_multivariate.ipynb\" target=\"_parent\"><img src=\"https://colab.research.google.com/assets/colab-badge.svg\" alt=\"Open In Colab\"/></a>"
      ]
    },
    {
      "cell_type": "code",
      "execution_count": 1,
      "metadata": {
        "id": "skOpbCOy8OcZ"
      },
      "outputs": [],
      "source": [
        "import numpy as np\n",
        "import pandas as pd\n",
        "import matplotlib.pyplot as plt\n"
      ]
    },
    {
      "cell_type": "code",
      "source": [
        "#Create dataset\n",
        "from sklearn.datasets import make_regression\n",
        "data = make_regression(n_samples=100, n_features=5,random_state = 42, bias=15, noise=5,n_targets=1)\n",
        "X= pd.DataFrame(data[0])\n",
        "Y= pd.Series(data[1])\n"
      ],
      "metadata": {
        "id": "nayDxr_B8clQ"
      },
      "execution_count": 3,
      "outputs": []
    },
    {
      "cell_type": "code",
      "source": [
        "#build model\n",
        "from sklearn.linear_model import LinearRegression\n",
        "ml = LinearRegression()\n"
      ],
      "metadata": {
        "id": "JZwRq2Kh8fyu"
      },
      "execution_count": 7,
      "outputs": []
    },
    {
      "cell_type": "code",
      "source": [
        "#fit Model\n",
        "ml.fit (X,Y)"
      ],
      "metadata": {
        "colab": {
          "base_uri": "https://localhost:8080/"
        },
        "id": "vz8tJ-Yc8iFz",
        "outputId": "3f486f70-3276-4821-f19d-8a54bce8f39a"
      },
      "execution_count": 8,
      "outputs": [
        {
          "output_type": "execute_result",
          "data": {
            "text/plain": [
              "LinearRegression()"
            ]
          },
          "metadata": {},
          "execution_count": 8
        }
      ]
    },
    {
      "cell_type": "code",
      "source": [
        "#predictl\n",
        "ml.predict ([[3.5,9.4,6.8,5.5,4]])"
      ],
      "metadata": {
        "colab": {
          "base_uri": "https://localhost:8080/"
        },
        "id": "wQ8764PF8lwS",
        "outputId": "6c07efb4-720b-43ec-e728-d2d7fd13e9a2"
      },
      "execution_count": 12,
      "outputs": [
        {
          "output_type": "execute_result",
          "data": {
            "text/plain": [
              "array([2036.46969535])"
            ]
          },
          "metadata": {},
          "execution_count": 12
        }
      ]
    }
  ]
}