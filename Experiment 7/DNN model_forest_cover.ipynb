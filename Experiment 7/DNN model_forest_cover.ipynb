{
  "nbformat": 4,
  "nbformat_minor": 0,
  "metadata": {
    "colab": {
      "name": "Untitled41.ipynb",
      "provenance": [],
      "authorship_tag": "ABX9TyMAvdbRhirUL8v0A8gCL1M9",
      "include_colab_link": true
    },
    "kernelspec": {
      "name": "python3",
      "display_name": "Python 3"
    },
    "language_info": {
      "name": "python"
    },
    "accelerator": "GPU"
  },
  "cells": [
    {
      "cell_type": "markdown",
      "metadata": {
        "id": "view-in-github",
        "colab_type": "text"
      },
      "source": [
        "<a href=\"https://colab.research.google.com/github/FathimaNazarudeen/Advanced-Computing-Lab/blob/main/Experiment%207/DNN%20model_forest_cover.ipynb\" target=\"_parent\"><img src=\"https://colab.research.google.com/assets/colab-badge.svg\" alt=\"Open In Colab\"/></a>"
      ]
    },
    {
      "cell_type": "code",
      "execution_count": 15,
      "metadata": {
        "id": "ZwR5MGfwnQBM"
      },
      "outputs": [],
      "source": [
        "import pandas as pd"
      ]
    },
    {
      "cell_type": "code",
      "source": [
        "from sklearn.datasets import fetch_covtype\n"
      ],
      "metadata": {
        "id": "sEbbMb1knUTi"
      },
      "execution_count": 16,
      "outputs": []
    },
    {
      "cell_type": "code",
      "source": [
        "X,y=fetch_covtype(return_X_y=True)\n",
        "y=y-1"
      ],
      "metadata": {
        "id": "Km63aiJNoEu6"
      },
      "execution_count": 17,
      "outputs": []
    },
    {
      "cell_type": "code",
      "source": [
        "print(set(y))"
      ],
      "metadata": {
        "id": "DbBdTtsAu-qs",
        "outputId": "62331e58-df6a-4688-dae5-de67ab4da4cb",
        "colab": {
          "base_uri": "https://localhost:8080/"
        }
      },
      "execution_count": 18,
      "outputs": [
        {
          "output_type": "stream",
          "name": "stdout",
          "text": [
            "{0, 1, 2, 3, 4, 5, 6}\n"
          ]
        }
      ]
    },
    {
      "cell_type": "code",
      "source": [
        "from sklearn.model_selection import train_test_split"
      ],
      "metadata": {
        "id": "nKaLqDkXnogn"
      },
      "execution_count": 19,
      "outputs": []
    },
    {
      "cell_type": "code",
      "source": [
        "X_train, X_test, y_train, y_test = train_test_split(X, y, test_size=0.2)"
      ],
      "metadata": {
        "id": "zm7nBk35nxHQ"
      },
      "execution_count": 20,
      "outputs": []
    },
    {
      "cell_type": "code",
      "source": [
        "import tensorflow as tf\n",
        "from tensorflow import keras"
      ],
      "metadata": {
        "id": "sO-y--SCn-lf"
      },
      "execution_count": 21,
      "outputs": []
    },
    {
      "cell_type": "code",
      "source": [
        "ml=keras.models.Sequential()"
      ],
      "metadata": {
        "id": "9evTwtw0oFgE"
      },
      "execution_count": 22,
      "outputs": []
    },
    {
      "cell_type": "code",
      "source": [
        "ml.add(keras.layers.Dense(units=50,activation='relu',input_dim=X.shape[1]))"
      ],
      "metadata": {
        "id": "RvSMkaPrpP1U"
      },
      "execution_count": 23,
      "outputs": []
    },
    {
      "cell_type": "code",
      "source": [
        "ml.add(keras.layers.Dense(units=60,activation='relu'))\n",
        "ml.add(keras.layers.Dense(units=85,activation='relu'))\n",
        "ml.add(keras.layers.Dense(units=100,activation='relu'))\n",
        "ml.add(keras.layers.Dense(units=7,activation='softmax'))\n",
        "ml.summary()"
      ],
      "metadata": {
        "colab": {
          "base_uri": "https://localhost:8080/"
        },
        "id": "GoroIINgoNpc",
        "outputId": "56ba83c9-5580-4525-e745-926518ac749c"
      },
      "execution_count": 24,
      "outputs": [
        {
          "output_type": "stream",
          "name": "stdout",
          "text": [
            "Model: \"sequential_1\"\n",
            "_________________________________________________________________\n",
            " Layer (type)                Output Shape              Param #   \n",
            "=================================================================\n",
            " dense_5 (Dense)             (None, 50)                2750      \n",
            "                                                                 \n",
            " dense_6 (Dense)             (None, 60)                3060      \n",
            "                                                                 \n",
            " dense_7 (Dense)             (None, 85)                5185      \n",
            "                                                                 \n",
            " dense_8 (Dense)             (None, 100)               8600      \n",
            "                                                                 \n",
            " dense_9 (Dense)             (None, 7)                 707       \n",
            "                                                                 \n",
            "=================================================================\n",
            "Total params: 20,302\n",
            "Trainable params: 20,302\n",
            "Non-trainable params: 0\n",
            "_________________________________________________________________\n"
          ]
        }
      ]
    },
    {
      "cell_type": "code",
      "source": [
        "ml.compile(loss='sparse_categorical_crossentropy',optimizer='adam',metrics=['accuracy'])"
      ],
      "metadata": {
        "id": "DtOJ7AAgpk7H"
      },
      "execution_count": 25,
      "outputs": []
    },
    {
      "cell_type": "code",
      "source": [
        "ml.fit(X_train, y_train, epochs=50,batch_size=1000)"
      ],
      "metadata": {
        "colab": {
          "base_uri": "https://localhost:8080/"
        },
        "id": "7mNsCcaXp5_H",
        "outputId": "db736d2a-fa68-4f66-9785-c22894de3577"
      },
      "execution_count": 26,
      "outputs": [
        {
          "output_type": "stream",
          "name": "stdout",
          "text": [
            "Epoch 1/50\n",
            "465/465 [==============================] - 2s 3ms/step - loss: 6.5980 - accuracy: 0.5514\n",
            "Epoch 2/50\n",
            "465/465 [==============================] - 1s 3ms/step - loss: 0.8623 - accuracy: 0.6480\n",
            "Epoch 3/50\n",
            "465/465 [==============================] - 1s 3ms/step - loss: 0.7476 - accuracy: 0.6831\n",
            "Epoch 4/50\n",
            "465/465 [==============================] - 1s 3ms/step - loss: 0.6984 - accuracy: 0.7017\n",
            "Epoch 5/50\n",
            "465/465 [==============================] - 1s 3ms/step - loss: 0.6550 - accuracy: 0.7191\n",
            "Epoch 6/50\n",
            "465/465 [==============================] - 1s 3ms/step - loss: 0.6348 - accuracy: 0.7271\n",
            "Epoch 7/50\n",
            "465/465 [==============================] - 1s 3ms/step - loss: 0.6131 - accuracy: 0.7371\n",
            "Epoch 8/50\n",
            "465/465 [==============================] - 1s 3ms/step - loss: 0.5944 - accuracy: 0.7445\n",
            "Epoch 9/50\n",
            "465/465 [==============================] - 1s 3ms/step - loss: 0.5792 - accuracy: 0.7506\n",
            "Epoch 10/50\n",
            "465/465 [==============================] - 1s 3ms/step - loss: 0.5612 - accuracy: 0.7595\n",
            "Epoch 11/50\n",
            "465/465 [==============================] - 1s 3ms/step - loss: 0.5506 - accuracy: 0.7637\n",
            "Epoch 12/50\n",
            "465/465 [==============================] - 1s 3ms/step - loss: 0.5423 - accuracy: 0.7671\n",
            "Epoch 13/50\n",
            "465/465 [==============================] - 1s 3ms/step - loss: 0.5313 - accuracy: 0.7719\n",
            "Epoch 14/50\n",
            "465/465 [==============================] - 1s 3ms/step - loss: 0.5235 - accuracy: 0.7749\n",
            "Epoch 15/50\n",
            "465/465 [==============================] - 1s 3ms/step - loss: 0.5153 - accuracy: 0.7791\n",
            "Epoch 16/50\n",
            "465/465 [==============================] - 1s 3ms/step - loss: 0.5045 - accuracy: 0.7842\n",
            "Epoch 17/50\n",
            "465/465 [==============================] - 1s 3ms/step - loss: 0.4924 - accuracy: 0.7902\n",
            "Epoch 18/50\n",
            "465/465 [==============================] - 1s 3ms/step - loss: 0.4835 - accuracy: 0.7943\n",
            "Epoch 19/50\n",
            "465/465 [==============================] - 1s 3ms/step - loss: 0.4793 - accuracy: 0.7965\n",
            "Epoch 20/50\n",
            "465/465 [==============================] - 1s 3ms/step - loss: 0.4723 - accuracy: 0.7992\n",
            "Epoch 21/50\n",
            "465/465 [==============================] - 1s 3ms/step - loss: 0.4666 - accuracy: 0.8012\n",
            "Epoch 22/50\n",
            "465/465 [==============================] - 1s 3ms/step - loss: 0.4575 - accuracy: 0.8055\n",
            "Epoch 23/50\n",
            "465/465 [==============================] - 1s 3ms/step - loss: 0.4507 - accuracy: 0.8086\n",
            "Epoch 24/50\n",
            "465/465 [==============================] - 1s 3ms/step - loss: 0.4437 - accuracy: 0.8120\n",
            "Epoch 25/50\n",
            "465/465 [==============================] - 1s 3ms/step - loss: 0.4371 - accuracy: 0.8147\n",
            "Epoch 26/50\n",
            "465/465 [==============================] - 1s 3ms/step - loss: 0.4289 - accuracy: 0.8181\n",
            "Epoch 27/50\n",
            "465/465 [==============================] - 1s 3ms/step - loss: 0.4275 - accuracy: 0.8186\n",
            "Epoch 28/50\n",
            "465/465 [==============================] - 1s 3ms/step - loss: 0.4189 - accuracy: 0.8233\n",
            "Epoch 29/50\n",
            "465/465 [==============================] - 1s 3ms/step - loss: 0.4132 - accuracy: 0.8253\n",
            "Epoch 30/50\n",
            "465/465 [==============================] - 1s 3ms/step - loss: 0.4070 - accuracy: 0.8287\n",
            "Epoch 31/50\n",
            "465/465 [==============================] - 1s 3ms/step - loss: 0.4034 - accuracy: 0.8301\n",
            "Epoch 32/50\n",
            "465/465 [==============================] - 1s 3ms/step - loss: 0.4000 - accuracy: 0.8320\n",
            "Epoch 33/50\n",
            "465/465 [==============================] - 1s 3ms/step - loss: 0.3929 - accuracy: 0.8345\n",
            "Epoch 34/50\n",
            "465/465 [==============================] - 1s 3ms/step - loss: 0.3877 - accuracy: 0.8376\n",
            "Epoch 35/50\n",
            "465/465 [==============================] - 1s 3ms/step - loss: 0.3895 - accuracy: 0.8360\n",
            "Epoch 36/50\n",
            "465/465 [==============================] - 1s 3ms/step - loss: 0.3844 - accuracy: 0.8388\n",
            "Epoch 37/50\n",
            "465/465 [==============================] - 1s 3ms/step - loss: 0.3781 - accuracy: 0.8414\n",
            "Epoch 38/50\n",
            "465/465 [==============================] - 1s 3ms/step - loss: 0.3773 - accuracy: 0.8418\n",
            "Epoch 39/50\n",
            "465/465 [==============================] - 1s 3ms/step - loss: 0.3732 - accuracy: 0.8439\n",
            "Epoch 40/50\n",
            "465/465 [==============================] - 1s 3ms/step - loss: 0.3693 - accuracy: 0.8460\n",
            "Epoch 41/50\n",
            "465/465 [==============================] - 1s 3ms/step - loss: 0.3669 - accuracy: 0.8464\n",
            "Epoch 42/50\n",
            "465/465 [==============================] - 1s 3ms/step - loss: 0.3622 - accuracy: 0.8492\n",
            "Epoch 43/50\n",
            "465/465 [==============================] - 1s 3ms/step - loss: 0.3646 - accuracy: 0.8478\n",
            "Epoch 44/50\n",
            "465/465 [==============================] - 1s 3ms/step - loss: 0.3561 - accuracy: 0.8514\n",
            "Epoch 45/50\n",
            "465/465 [==============================] - 1s 3ms/step - loss: 0.3539 - accuracy: 0.8531\n",
            "Epoch 46/50\n",
            "465/465 [==============================] - 1s 3ms/step - loss: 0.3533 - accuracy: 0.8527\n",
            "Epoch 47/50\n",
            "465/465 [==============================] - 1s 3ms/step - loss: 0.3498 - accuracy: 0.8544\n",
            "Epoch 48/50\n",
            "465/465 [==============================] - 1s 3ms/step - loss: 0.3419 - accuracy: 0.8580\n",
            "Epoch 49/50\n",
            "465/465 [==============================] - 1s 3ms/step - loss: 0.3456 - accuracy: 0.8556\n",
            "Epoch 50/50\n",
            "465/465 [==============================] - 1s 3ms/step - loss: 0.3393 - accuracy: 0.8587\n"
          ]
        },
        {
          "output_type": "execute_result",
          "data": {
            "text/plain": [
              "<keras.callbacks.History at 0x7fb7539e9ed0>"
            ]
          },
          "metadata": {},
          "execution_count": 26
        }
      ]
    },
    {
      "cell_type": "code",
      "source": [
        "test_loss,test_accuracy=ml.evaluate(X_test,y_test)"
      ],
      "metadata": {
        "colab": {
          "base_uri": "https://localhost:8080/"
        },
        "id": "krvCtr7AqoCN",
        "outputId": "bd50b8da-0038-40ff-a9ca-ae8803c1f053"
      },
      "execution_count": 27,
      "outputs": [
        {
          "output_type": "stream",
          "name": "stdout",
          "text": [
            "3632/3632 [==============================] - 8s 2ms/step - loss: 0.3642 - accuracy: 0.8480\n"
          ]
        }
      ]
    },
    {
      "cell_type": "code",
      "source": [
        "print(test_loss,test_accuracy*100)"
      ],
      "metadata": {
        "colab": {
          "base_uri": "https://localhost:8080/"
        },
        "id": "Y4wDNQA2q-7X",
        "outputId": "de6fd062-bda7-49c6-f7d0-867429784c3f"
      },
      "execution_count": 28,
      "outputs": [
        {
          "output_type": "stream",
          "name": "stdout",
          "text": [
            "0.36419254541397095 84.80246067047119\n"
          ]
        }
      ]
    }
  ]
}