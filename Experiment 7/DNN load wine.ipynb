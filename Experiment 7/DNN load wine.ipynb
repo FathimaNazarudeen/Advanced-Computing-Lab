{
  "nbformat": 4,
  "nbformat_minor": 0,
  "metadata": {
    "colab": {
      "name": "Untitled41.ipynb",
      "provenance": [],
      "authorship_tag": "ABX9TyNwMJz4YWPVP4FpQRIuoY17",
      "include_colab_link": true
    },
    "kernelspec": {
      "name": "python3",
      "display_name": "Python 3"
    },
    "language_info": {
      "name": "python"
    }
  },
  "cells": [
    {
      "cell_type": "markdown",
      "metadata": {
        "id": "view-in-github",
        "colab_type": "text"
      },
      "source": [
        "<a href=\"https://colab.research.google.com/github/FathimaNazarudeen/Advanced-Computing-Lab/blob/main/Experiment%207/DNN%20load%20wine.ipynb\" target=\"_parent\"><img src=\"https://colab.research.google.com/assets/colab-badge.svg\" alt=\"Open In Colab\"/></a>"
      ]
    },
    {
      "cell_type": "code",
      "execution_count": 504,
      "metadata": {
        "id": "ZwR5MGfwnQBM"
      },
      "outputs": [],
      "source": [
        "import pandas as pd\n",
        "import numpy as np"
      ]
    },
    {
      "cell_type": "code",
      "source": [
        "from sklearn.datasets import load_wine\n",
        "data=load_wine()\n",
        "x=data.data\n",
        "y=data.target"
      ],
      "metadata": {
        "id": "sEbbMb1knUTi"
      },
      "execution_count": 505,
      "outputs": []
    },
    {
      "cell_type": "code",
      "source": [
        "from sklearn.model_selection import train_test_split"
      ],
      "metadata": {
        "id": "nKaLqDkXnogn"
      },
      "execution_count": 506,
      "outputs": []
    },
    {
      "cell_type": "code",
      "source": [
        "X_train, X_test, y_train, y_test = train_test_split(x, y, test_size=0.2)"
      ],
      "metadata": {
        "id": "zm7nBk35nxHQ"
      },
      "execution_count": 507,
      "outputs": []
    },
    {
      "cell_type": "code",
      "source": [
        "import tensorflow as tf\n",
        "from tensorflow import keras"
      ],
      "metadata": {
        "id": "sO-y--SCn-lf"
      },
      "execution_count": 508,
      "outputs": []
    },
    {
      "cell_type": "code",
      "source": [
        "ml=keras.models.Sequential()"
      ],
      "metadata": {
        "id": "9evTwtw0oFgE"
      },
      "execution_count": 509,
      "outputs": []
    },
    {
      "cell_type": "code",
      "source": [
        "ml.add(keras.layers.Dense(units=4,activation='relu',input_dim=x.shape[1]))"
      ],
      "metadata": {
        "id": "RvSMkaPrpP1U"
      },
      "execution_count": 510,
      "outputs": []
    },
    {
      "cell_type": "code",
      "source": [
        "ml.add(keras.layers.Dense(units=4,activation='relu'))\n",
        "ml.add(keras.layers.Dense(units=5,activation='relu'))\n",
        "ml.add(keras.layers.Dense(units=3,activation='sigmoid'))\n",
        "ml.summary()"
      ],
      "metadata": {
        "colab": {
          "base_uri": "https://localhost:8080/"
        },
        "id": "GoroIINgoNpc",
        "outputId": "c7f7553b-9ba5-415c-95f4-db3d8a871127"
      },
      "execution_count": 511,
      "outputs": [
        {
          "output_type": "stream",
          "name": "stdout",
          "text": [
            "Model: \"sequential_39\"\n",
            "_________________________________________________________________\n",
            " Layer (type)                Output Shape              Param #   \n",
            "=================================================================\n",
            " dense_138 (Dense)           (None, 4)                 56        \n",
            "                                                                 \n",
            " dense_139 (Dense)           (None, 4)                 20        \n",
            "                                                                 \n",
            " dense_140 (Dense)           (None, 5)                 25        \n",
            "                                                                 \n",
            " dense_141 (Dense)           (None, 3)                 18        \n",
            "                                                                 \n",
            "=================================================================\n",
            "Total params: 119\n",
            "Trainable params: 119\n",
            "Non-trainable params: 0\n",
            "_________________________________________________________________\n"
          ]
        }
      ]
    },
    {
      "cell_type": "code",
      "source": [
        "ml.compile(loss='sparse_categorical_crossentropy',optimizer='adam',metrics=['accuracy'])"
      ],
      "metadata": {
        "id": "DtOJ7AAgpk7H"
      },
      "execution_count": 512,
      "outputs": []
    },
    {
      "cell_type": "code",
      "source": [
        "ml.fit(X_train, y_train, epochs=100)"
      ],
      "metadata": {
        "colab": {
          "base_uri": "https://localhost:8080/"
        },
        "id": "7mNsCcaXp5_H",
        "outputId": "72ce255e-ef81-4fce-be03-7c03a08c21b0"
      },
      "execution_count": 513,
      "outputs": [
        {
          "output_type": "stream",
          "name": "stdout",
          "text": [
            "Epoch 1/100\n",
            "5/5 [==============================] - 0s 3ms/step - loss: 26.4658 - accuracy: 0.2535\n",
            "Epoch 2/100\n",
            "5/5 [==============================] - 0s 2ms/step - loss: 21.0471 - accuracy: 0.2676\n",
            "Epoch 3/100\n",
            "5/5 [==============================] - 0s 2ms/step - loss: 19.1457 - accuracy: 0.3169\n",
            "Epoch 4/100\n",
            "5/5 [==============================] - 0s 2ms/step - loss: 17.4994 - accuracy: 0.3169\n",
            "Epoch 5/100\n",
            "5/5 [==============================] - 0s 3ms/step - loss: 15.4858 - accuracy: 0.3169\n",
            "Epoch 6/100\n",
            "5/5 [==============================] - 0s 2ms/step - loss: 13.7167 - accuracy: 0.3451\n",
            "Epoch 7/100\n",
            "5/5 [==============================] - 0s 3ms/step - loss: 12.3736 - accuracy: 0.2535\n",
            "Epoch 8/100\n",
            "5/5 [==============================] - 0s 3ms/step - loss: 10.9703 - accuracy: 0.3310\n",
            "Epoch 9/100\n",
            "5/5 [==============================] - 0s 2ms/step - loss: 9.7314 - accuracy: 0.3169\n",
            "Epoch 10/100\n",
            "5/5 [==============================] - 0s 3ms/step - loss: 8.5907 - accuracy: 0.3169\n",
            "Epoch 11/100\n",
            "5/5 [==============================] - 0s 3ms/step - loss: 7.5777 - accuracy: 0.3169\n",
            "Epoch 12/100\n",
            "5/5 [==============================] - 0s 2ms/step - loss: 6.6191 - accuracy: 0.3169\n",
            "Epoch 13/100\n",
            "5/5 [==============================] - 0s 3ms/step - loss: 5.7396 - accuracy: 0.3169\n",
            "Epoch 14/100\n",
            "5/5 [==============================] - 0s 3ms/step - loss: 4.9339 - accuracy: 0.3169\n",
            "Epoch 15/100\n",
            "5/5 [==============================] - 0s 3ms/step - loss: 4.1880 - accuracy: 0.3169\n",
            "Epoch 16/100\n",
            "5/5 [==============================] - 0s 3ms/step - loss: 3.5385 - accuracy: 0.3169\n",
            "Epoch 17/100\n",
            "5/5 [==============================] - 0s 6ms/step - loss: 2.9260 - accuracy: 0.3169\n",
            "Epoch 18/100\n",
            "5/5 [==============================] - 0s 3ms/step - loss: 2.3606 - accuracy: 0.3169\n",
            "Epoch 19/100\n",
            "5/5 [==============================] - 0s 3ms/step - loss: 1.8353 - accuracy: 0.3169\n",
            "Epoch 20/100\n",
            "5/5 [==============================] - 0s 3ms/step - loss: 1.4252 - accuracy: 0.3169\n",
            "Epoch 21/100\n",
            "5/5 [==============================] - 0s 2ms/step - loss: 1.1378 - accuracy: 0.3169\n",
            "Epoch 22/100\n",
            "5/5 [==============================] - 0s 3ms/step - loss: 1.0697 - accuracy: 0.4155\n",
            "Epoch 23/100\n",
            "5/5 [==============================] - 0s 3ms/step - loss: 1.1239 - accuracy: 0.4296\n",
            "Epoch 24/100\n",
            "5/5 [==============================] - 0s 3ms/step - loss: 1.1261 - accuracy: 0.4296\n",
            "Epoch 25/100\n",
            "5/5 [==============================] - 0s 2ms/step - loss: 1.0918 - accuracy: 0.4296\n",
            "Epoch 26/100\n",
            "5/5 [==============================] - 0s 3ms/step - loss: 1.0689 - accuracy: 0.5282\n",
            "Epoch 27/100\n",
            "5/5 [==============================] - 0s 2ms/step - loss: 1.0715 - accuracy: 0.3169\n",
            "Epoch 28/100\n",
            "5/5 [==============================] - 0s 2ms/step - loss: 1.0675 - accuracy: 0.3169\n",
            "Epoch 29/100\n",
            "5/5 [==============================] - 0s 4ms/step - loss: 1.0631 - accuracy: 0.3169\n",
            "Epoch 30/100\n",
            "5/5 [==============================] - 0s 3ms/step - loss: 1.0624 - accuracy: 0.3662\n",
            "Epoch 31/100\n",
            "5/5 [==============================] - 0s 4ms/step - loss: 1.0634 - accuracy: 0.5845\n",
            "Epoch 32/100\n",
            "5/5 [==============================] - 0s 5ms/step - loss: 1.0629 - accuracy: 0.5986\n",
            "Epoch 33/100\n",
            "5/5 [==============================] - 0s 3ms/step - loss: 1.0627 - accuracy: 0.6056\n",
            "Epoch 34/100\n",
            "5/5 [==============================] - 0s 2ms/step - loss: 1.0623 - accuracy: 0.5775\n",
            "Epoch 35/100\n",
            "5/5 [==============================] - 0s 2ms/step - loss: 1.0636 - accuracy: 0.4718\n",
            "Epoch 36/100\n",
            "5/5 [==============================] - 0s 3ms/step - loss: 1.0618 - accuracy: 0.3380\n",
            "Epoch 37/100\n",
            "5/5 [==============================] - 0s 2ms/step - loss: 1.0617 - accuracy: 0.3169\n",
            "Epoch 38/100\n",
            "5/5 [==============================] - 0s 3ms/step - loss: 1.0623 - accuracy: 0.3169\n",
            "Epoch 39/100\n",
            "5/5 [==============================] - 0s 3ms/step - loss: 1.0629 - accuracy: 0.3169\n",
            "Epoch 40/100\n",
            "5/5 [==============================] - 0s 3ms/step - loss: 1.0642 - accuracy: 0.4085\n",
            "Epoch 41/100\n",
            "5/5 [==============================] - 0s 2ms/step - loss: 1.0597 - accuracy: 0.5775\n",
            "Epoch 42/100\n",
            "5/5 [==============================] - 0s 3ms/step - loss: 1.0608 - accuracy: 0.5634\n",
            "Epoch 43/100\n",
            "5/5 [==============================] - 0s 3ms/step - loss: 1.0605 - accuracy: 0.5352\n",
            "Epoch 44/100\n",
            "5/5 [==============================] - 0s 5ms/step - loss: 1.0599 - accuracy: 0.4014\n",
            "Epoch 45/100\n",
            "5/5 [==============================] - 0s 2ms/step - loss: 1.0593 - accuracy: 0.3451\n",
            "Epoch 46/100\n",
            "5/5 [==============================] - 0s 3ms/step - loss: 1.0588 - accuracy: 0.3803\n",
            "Epoch 47/100\n",
            "5/5 [==============================] - 0s 3ms/step - loss: 1.0580 - accuracy: 0.4296\n",
            "Epoch 48/100\n",
            "5/5 [==============================] - 0s 3ms/step - loss: 1.0572 - accuracy: 0.4718\n",
            "Epoch 49/100\n",
            "5/5 [==============================] - 0s 3ms/step - loss: 1.0572 - accuracy: 0.6549\n",
            "Epoch 50/100\n",
            "5/5 [==============================] - 0s 3ms/step - loss: 1.0587 - accuracy: 0.6338\n",
            "Epoch 51/100\n",
            "5/5 [==============================] - 0s 3ms/step - loss: 1.0578 - accuracy: 0.6408\n",
            "Epoch 52/100\n",
            "5/5 [==============================] - 0s 5ms/step - loss: 1.0557 - accuracy: 0.5070\n",
            "Epoch 53/100\n",
            "5/5 [==============================] - 0s 3ms/step - loss: 1.0578 - accuracy: 0.4859\n",
            "Epoch 54/100\n",
            "5/5 [==============================] - 0s 3ms/step - loss: 1.0568 - accuracy: 0.5986\n",
            "Epoch 55/100\n",
            "5/5 [==============================] - 0s 3ms/step - loss: 1.0561 - accuracy: 0.4930\n",
            "Epoch 56/100\n",
            "5/5 [==============================] - 0s 3ms/step - loss: 1.0555 - accuracy: 0.4437\n",
            "Epoch 57/100\n",
            "5/5 [==============================] - 0s 3ms/step - loss: 1.0556 - accuracy: 0.5282\n",
            "Epoch 58/100\n",
            "5/5 [==============================] - 0s 3ms/step - loss: 1.0546 - accuracy: 0.5352\n",
            "Epoch 59/100\n",
            "5/5 [==============================] - 0s 3ms/step - loss: 1.0547 - accuracy: 0.4085\n",
            "Epoch 60/100\n",
            "5/5 [==============================] - 0s 3ms/step - loss: 1.0527 - accuracy: 0.5634\n",
            "Epoch 61/100\n",
            "5/5 [==============================] - 0s 3ms/step - loss: 1.0537 - accuracy: 0.6761\n",
            "Epoch 62/100\n",
            "5/5 [==============================] - 0s 3ms/step - loss: 1.0565 - accuracy: 0.6761\n",
            "Epoch 63/100\n",
            "5/5 [==============================] - 0s 3ms/step - loss: 1.0577 - accuracy: 0.6268\n",
            "Epoch 64/100\n",
            "5/5 [==============================] - 0s 3ms/step - loss: 1.0537 - accuracy: 0.6338\n",
            "Epoch 65/100\n",
            "5/5 [==============================] - 0s 3ms/step - loss: 1.0519 - accuracy: 0.6268\n",
            "Epoch 66/100\n",
            "5/5 [==============================] - 0s 3ms/step - loss: 1.0527 - accuracy: 0.6338\n",
            "Epoch 67/100\n",
            "5/5 [==============================] - 0s 3ms/step - loss: 1.0521 - accuracy: 0.6197\n",
            "Epoch 68/100\n",
            "5/5 [==============================] - 0s 3ms/step - loss: 1.0510 - accuracy: 0.5986\n",
            "Epoch 69/100\n",
            "5/5 [==============================] - 0s 3ms/step - loss: 1.0507 - accuracy: 0.5775\n",
            "Epoch 70/100\n",
            "5/5 [==============================] - 0s 4ms/step - loss: 1.0503 - accuracy: 0.5141\n",
            "Epoch 71/100\n",
            "5/5 [==============================] - 0s 4ms/step - loss: 1.0515 - accuracy: 0.5986\n",
            "Epoch 72/100\n",
            "5/5 [==============================] - 0s 3ms/step - loss: 1.0487 - accuracy: 0.5986\n",
            "Epoch 73/100\n",
            "5/5 [==============================] - 0s 2ms/step - loss: 1.0510 - accuracy: 0.4014\n",
            "Epoch 74/100\n",
            "5/5 [==============================] - 0s 2ms/step - loss: 1.0489 - accuracy: 0.3944\n",
            "Epoch 75/100\n",
            "5/5 [==============================] - 0s 2ms/step - loss: 1.0483 - accuracy: 0.4437\n",
            "Epoch 76/100\n",
            "5/5 [==============================] - 0s 3ms/step - loss: 1.0516 - accuracy: 0.6338\n",
            "Epoch 77/100\n",
            "5/5 [==============================] - 0s 3ms/step - loss: 1.0532 - accuracy: 0.6127\n",
            "Epoch 78/100\n",
            "5/5 [==============================] - 0s 2ms/step - loss: 1.0490 - accuracy: 0.6690\n",
            "Epoch 79/100\n",
            "5/5 [==============================] - 0s 2ms/step - loss: 1.0485 - accuracy: 0.5634\n",
            "Epoch 80/100\n",
            "5/5 [==============================] - 0s 3ms/step - loss: 1.0494 - accuracy: 0.3592\n",
            "Epoch 81/100\n",
            "5/5 [==============================] - 0s 3ms/step - loss: 1.0486 - accuracy: 0.6127\n",
            "Epoch 82/100\n",
            "5/5 [==============================] - 0s 3ms/step - loss: 1.0485 - accuracy: 0.5563\n",
            "Epoch 83/100\n",
            "5/5 [==============================] - 0s 3ms/step - loss: 1.0469 - accuracy: 0.6338\n",
            "Epoch 84/100\n",
            "5/5 [==============================] - 0s 3ms/step - loss: 1.0451 - accuracy: 0.5634\n",
            "Epoch 85/100\n",
            "5/5 [==============================] - 0s 3ms/step - loss: 1.0464 - accuracy: 0.3521\n",
            "Epoch 86/100\n",
            "5/5 [==============================] - 0s 3ms/step - loss: 1.0466 - accuracy: 0.3380\n",
            "Epoch 87/100\n",
            "5/5 [==============================] - 0s 3ms/step - loss: 1.0459 - accuracy: 0.4085\n",
            "Epoch 88/100\n",
            "5/5 [==============================] - 0s 3ms/step - loss: 1.0448 - accuracy: 0.5493\n",
            "Epoch 89/100\n",
            "5/5 [==============================] - 0s 3ms/step - loss: 1.0436 - accuracy: 0.5634\n",
            "Epoch 90/100\n",
            "5/5 [==============================] - 0s 3ms/step - loss: 1.0429 - accuracy: 0.5986\n",
            "Epoch 91/100\n",
            "5/5 [==============================] - 0s 4ms/step - loss: 1.0427 - accuracy: 0.6479\n",
            "Epoch 92/100\n",
            "5/5 [==============================] - 0s 3ms/step - loss: 1.0415 - accuracy: 0.6479\n",
            "Epoch 93/100\n",
            "5/5 [==============================] - 0s 3ms/step - loss: 1.0412 - accuracy: 0.6056\n",
            "Epoch 94/100\n",
            "5/5 [==============================] - 0s 3ms/step - loss: 1.0415 - accuracy: 0.4930\n",
            "Epoch 95/100\n",
            "5/5 [==============================] - 0s 3ms/step - loss: 1.0425 - accuracy: 0.4859\n",
            "Epoch 96/100\n",
            "5/5 [==============================] - 0s 3ms/step - loss: 1.0423 - accuracy: 0.6197\n",
            "Epoch 97/100\n",
            "5/5 [==============================] - 0s 3ms/step - loss: 1.0393 - accuracy: 0.5986\n",
            "Epoch 98/100\n",
            "5/5 [==============================] - 0s 3ms/step - loss: 1.0411 - accuracy: 0.4648\n",
            "Epoch 99/100\n",
            "5/5 [==============================] - 0s 4ms/step - loss: 1.0400 - accuracy: 0.4577\n",
            "Epoch 100/100\n",
            "5/5 [==============================] - 0s 3ms/step - loss: 1.0390 - accuracy: 0.5423\n"
          ]
        },
        {
          "output_type": "execute_result",
          "data": {
            "text/plain": [
              "<keras.callbacks.History at 0x7ff2417f8910>"
            ]
          },
          "metadata": {},
          "execution_count": 513
        }
      ]
    },
    {
      "cell_type": "code",
      "source": [
        "test_loss,test_accuracy=ml.evaluate(X_test,y_test)"
      ],
      "metadata": {
        "colab": {
          "base_uri": "https://localhost:8080/"
        },
        "id": "krvCtr7AqoCN",
        "outputId": "14533117-a84a-4ccc-9394-f7e9c2a38624"
      },
      "execution_count": 514,
      "outputs": [
        {
          "output_type": "stream",
          "name": "stdout",
          "text": [
            "2/2 [==============================] - 0s 8ms/step - loss: 1.0410 - accuracy: 0.5556\n"
          ]
        }
      ]
    },
    {
      "cell_type": "code",
      "source": [
        "print(test_loss,test_accuracy)"
      ],
      "metadata": {
        "colab": {
          "base_uri": "https://localhost:8080/"
        },
        "id": "Y4wDNQA2q-7X",
        "outputId": "3b3424f6-7f34-445e-ea06-6b777a313a87"
      },
      "execution_count": 515,
      "outputs": [
        {
          "output_type": "stream",
          "name": "stdout",
          "text": [
            "1.0409585237503052 0.5555555820465088\n"
          ]
        }
      ]
    },
    {
      "cell_type": "code",
      "source": [
        ""
      ],
      "metadata": {
        "id": "f1gHrMK5qFtg"
      },
      "execution_count": 515,
      "outputs": []
    }
  ]
}