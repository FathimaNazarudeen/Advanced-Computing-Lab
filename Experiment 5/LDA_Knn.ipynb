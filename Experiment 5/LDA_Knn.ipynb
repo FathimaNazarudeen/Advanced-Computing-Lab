{
  "nbformat": 4,
  "nbformat_minor": 0,
  "metadata": {
    "colab": {
      "name": "LDA Knn.ipynb",
      "provenance": [],
      "authorship_tag": "ABX9TyO1o/Q42AqnQ1M/wjfyBQUT",
      "include_colab_link": true
    },
    "kernelspec": {
      "name": "python3",
      "display_name": "Python 3"
    },
    "language_info": {
      "name": "python"
    }
  },
  "cells": [
    {
      "cell_type": "markdown",
      "metadata": {
        "id": "view-in-github",
        "colab_type": "text"
      },
      "source": [
        "<a href=\"https://colab.research.google.com/github/FathimaNazarudeen/Advanced-Computing-Lab/blob/main/Experiment%205/LDA_Knn.ipynb\" target=\"_parent\"><img src=\"https://colab.research.google.com/assets/colab-badge.svg\" alt=\"Open In Colab\"/></a>"
      ]
    },
    {
      "cell_type": "code",
      "execution_count": 18,
      "metadata": {
        "id": "XUC4LlP1mP4b"
      },
      "outputs": [],
      "source": [
        "import pandas as pd\n",
        "import numpy as np\n",
        "file=pd.read_csv(\"/content/irisexcel.csv\")\n",
        "x=file[[\"sepal_length\",\"sepal_width\",\"petal_length\",\"petal_width\"]]\n",
        "y=file[\"species\"]"
      ]
    },
    {
      "cell_type": "code",
      "source": [
        "from sklearn.discriminant_analysis import LinearDiscriminantAnalysis\n",
        "ml = LinearDiscriminantAnalysis(n_components=None, priors=None, shrinkage=None, solver='svd',\n",
        "  store_covariance=False, tol=0.0001)\n",
        "model=ml.fit_transform(x,y)\n",
        "model\n"
      ],
      "metadata": {
        "colab": {
          "base_uri": "https://localhost:8080/"
        },
        "id": "BFJPAejnmXkp",
        "outputId": "b9b8e2a9-29b7-475e-cd8b-c1a73f5878e5"
      },
      "execution_count": 20,
      "outputs": [
        {
          "output_type": "execute_result",
          "data": {
            "text/plain": [
              "array([[ 8.0849532 ,  0.32845422],\n",
              "       [ 7.1471629 , -0.75547326],\n",
              "       [ 7.51137789, -0.23807832],\n",
              "       [ 6.83767561, -0.64288476],\n",
              "       [ 8.15781367,  0.54063935],\n",
              "       [ 7.72363087,  1.48232345],\n",
              "       [ 7.23514662,  0.3771537 ],\n",
              "       [ 7.62974497,  0.01667246],\n",
              "       [ 6.58274132, -0.98737424],\n",
              "       [ 7.36884116, -0.91362729],\n",
              "       [ 8.42181434,  0.67622968],\n",
              "       [ 7.24739721, -0.08292417],\n",
              "       [ 7.35062105, -1.0393597 ],\n",
              "       [ 7.59646896, -0.77671553],\n",
              "       [ 9.86936588,  1.61486093],\n",
              "       [ 9.18033614,  2.75558626],\n",
              "       [ 8.59760709,  1.85442217],\n",
              "       [ 7.7995682 ,  0.60905468],\n",
              "       [ 8.1000091 ,  0.99610981],\n",
              "       [ 8.04543611,  1.16244332],\n",
              "       [ 7.52046427, -0.156233  ],\n",
              "       [ 7.60526378,  1.22757267],\n",
              "       [ 8.70408249,  0.89959416],\n",
              "       [ 6.26374139,  0.46023935],\n",
              "       [ 6.59191505, -0.36199821],\n",
              "       [ 6.79210164, -0.93823664],\n",
              "       [ 6.84048091,  0.4848487 ],\n",
              "       [ 7.948386  ,  0.23871551],\n",
              "       [ 8.01209273,  0.11626909],\n",
              "       [ 6.85589572, -0.51715236],\n",
              "       [ 6.78303525, -0.72933749],\n",
              "       [ 7.38668238,  0.59101728],\n",
              "       [ 9.16249492,  1.25094169],\n",
              "       [ 9.49617185,  1.84989586],\n",
              "       [ 7.36884116, -0.91362729],\n",
              "       [ 7.9756525 , -0.13519572],\n",
              "       [ 8.63115466,  0.4346228 ],\n",
              "       [ 7.36884116, -0.91362729],\n",
              "       [ 6.95602269, -0.67887846],\n",
              "       [ 7.71167183,  0.01995843],\n",
              "       [ 7.9361354 ,  0.69879338],\n",
              "       [ 5.6690533 , -1.90328976],\n",
              "       [ 7.26559733, -0.24793625],\n",
              "       [ 6.42449823,  1.26152073],\n",
              "       [ 6.88607488,  1.07094506],\n",
              "       [ 6.77985104, -0.47815878],\n",
              "       [ 8.11232705,  0.78881818],\n",
              "       [ 7.21095698, -0.33438897],\n",
              "       [ 8.33988749,  0.6729437 ],\n",
              "       [ 7.69345171, -0.10577397],\n",
              "       [-1.45772244,  0.04186554],\n",
              "       [-1.79768044,  0.48879951],\n",
              "       [-2.41680973, -0.08234044],\n",
              "       [-2.26486771, -1.57609174],\n",
              "       [-2.55339693, -0.46282362],\n",
              "       [-2.41954768, -0.95728766],\n",
              "       [-2.44719309,  0.79553574],\n",
              "       [-0.2160281 , -1.57096512],\n",
              "       [-1.74591275, -0.80526746],\n",
              "       [-1.95838993, -0.35044011],\n",
              "       [-1.19023864, -2.61561292],\n",
              "       [-1.86140718,  0.32050146],\n",
              "       [-1.15386577, -2.61693435],\n",
              "       [-2.65942607, -0.63412155],\n",
              "       [-0.38024071,  0.09211958],\n",
              "       [-1.20280815,  0.09561055],\n",
              "       [-2.7626699 ,  0.03156949],\n",
              "       [-0.76227692, -1.63917546],\n",
              "       [-3.50940735, -1.6724835 ],\n",
              "       [-1.08410216, -1.6100398 ],\n",
              "       [-3.71895188,  1.03509697],\n",
              "       [-0.99937   , -0.47902036],\n",
              "       [-3.83709476, -1.39488292],\n",
              "       [-2.24344339, -1.41079358],\n",
              "       [-1.25428429, -0.53276537],\n",
              "       [-1.43952232, -0.12314653],\n",
              "       [-2.45921948, -0.91961551],\n",
              "       [-3.52471481,  0.16379275],\n",
              "       [-2.58974981, -0.17075771],\n",
              "       [ 0.31197324, -1.29978446],\n",
              "       [-1.10232227, -1.7357722 ],\n",
              "       [-0.59844322, -1.92334798],\n",
              "       [-0.89605882, -0.89192518],\n",
              "       [-4.49567379, -0.87924754],\n",
              "       [-2.9265236 ,  0.02499754],\n",
              "       [-2.10119821,  1.18719828],\n",
              "       [-2.14367532,  0.09713697],\n",
              "       [-2.48342912, -1.92190266],\n",
              "       [-1.31792367, -0.15753271],\n",
              "       [-1.95529307, -1.14514953],\n",
              "       [-2.38909697, -1.5823776 ],\n",
              "       [-2.28614469, -0.32562577],\n",
              "       [-1.26934019, -1.20042096],\n",
              "       [-0.28888857, -1.78315025],\n",
              "       [-2.00077969, -0.8969707 ],\n",
              "       [-1.16910587, -0.52787187],\n",
              "       [-1.6092782 , -0.46274252],\n",
              "       [-1.41813799, -0.53933732],\n",
              "       [ 0.47271009, -0.78924756],\n",
              "       [-1.54557146, -0.58518894],\n",
              "       [-7.85608083,  2.11161905],\n",
              "       [-5.5156825 , -0.04401811],\n",
              "       [-6.30499392,  0.46211638],\n",
              "       [-5.60355888, -0.34236987],\n",
              "       [-6.86344597,  0.81602566],\n",
              "       [-7.42481805, -0.1726265 ],\n",
              "       [-4.68086447, -0.50758694],\n",
              "       [-6.31374875, -0.96068288],\n",
              "       [-6.33198886, -1.37715975],\n",
              "       [-6.87287126,  2.69458147],\n",
              "       [-4.45364294,  1.33693971],\n",
              "       [-5.4611095 , -0.21035161],\n",
              "       [-5.67679825,  0.82435717],\n",
              "       [-5.97407494, -0.10462115],\n",
              "       [-6.78782019,  1.5744553 ],\n",
              "       [-5.82871291,  1.98940576],\n",
              "       [-5.0664238 , -0.02730214],\n",
              "       [-6.60847169,  1.7420041 ],\n",
              "       [-9.18829265, -0.74909806],\n",
              "       [-4.76573133, -2.14417884],\n",
              "       [-6.29305487,  1.63373692],\n",
              "       [-5.37314577,  0.63153087],\n",
              "       [-7.58557489, -0.97390788],\n",
              "       [-4.38367513, -0.12213933],\n",
              "       [-5.73135125,  1.28143515],\n",
              "       [-5.27583147, -0.0384815 ],\n",
              "       [-4.0923206 ,  0.18307048],\n",
              "       [-4.08316687,  0.51770204],\n",
              "       [-6.53257435,  0.28724638],\n",
              "       [-4.577648  , -0.84457527],\n",
              "       [-6.23500611, -0.70621819],\n",
              "       [-5.21836582,  1.46644917],\n",
              "       [-6.81795935,  0.56784684],\n",
              "       [-3.80972091, -0.93451896],\n",
              "       [-5.09023453, -2.11775698],\n",
              "       [-6.82119092,  0.85698379],\n",
              "       [-6.54193229,  2.41858841],\n",
              "       [-4.99356333,  0.18488299],\n",
              "       [-3.94659967,  0.60744074],\n",
              "       [-5.22159002,  1.13613893],\n",
              "       [-6.67858684,  1.785319  ],\n",
              "       [-5.13687786,  1.97641389],\n",
              "       [-5.5156825 , -0.04401811],\n",
              "       [-6.81196984,  1.44440158],\n",
              "       [-6.87289126,  2.40383699],\n",
              "       [-5.67401294,  1.66134615],\n",
              "       [-5.19712883, -0.36550576],\n",
              "       [-4.98171163,  0.81297282],\n",
              "       [-5.90148603,  2.32075134],\n",
              "       [-4.68400868,  0.32508073]])"
            ]
          },
          "metadata": {},
          "execution_count": 20
        }
      ]
    },
    {
      "cell_type": "code",
      "source": [
        "newx=pd.DataFrame(data=model,columns=[\"LDA 1\",\"LDA 2\"])\n",
        "newx"
      ],
      "metadata": {
        "colab": {
          "base_uri": "https://localhost:8080/",
          "height": 424
        },
        "id": "VExYC_7PqQJ5",
        "outputId": "c4739616-e2e3-43ea-9043-acac3aa457b2"
      },
      "execution_count": 22,
      "outputs": [
        {
          "output_type": "execute_result",
          "data": {
            "text/plain": [
              "        LDA 1     LDA 2\n",
              "0    8.084953  0.328454\n",
              "1    7.147163 -0.755473\n",
              "2    7.511378 -0.238078\n",
              "3    6.837676 -0.642885\n",
              "4    8.157814  0.540639\n",
              "..        ...       ...\n",
              "145 -5.674013  1.661346\n",
              "146 -5.197129 -0.365506\n",
              "147 -4.981712  0.812973\n",
              "148 -5.901486  2.320751\n",
              "149 -4.684009  0.325081\n",
              "\n",
              "[150 rows x 2 columns]"
            ],
            "text/html": [
              "\n",
              "  <div id=\"df-b965af5b-3be5-4779-b60a-fa8326af91ce\">\n",
              "    <div class=\"colab-df-container\">\n",
              "      <div>\n",
              "<style scoped>\n",
              "    .dataframe tbody tr th:only-of-type {\n",
              "        vertical-align: middle;\n",
              "    }\n",
              "\n",
              "    .dataframe tbody tr th {\n",
              "        vertical-align: top;\n",
              "    }\n",
              "\n",
              "    .dataframe thead th {\n",
              "        text-align: right;\n",
              "    }\n",
              "</style>\n",
              "<table border=\"1\" class=\"dataframe\">\n",
              "  <thead>\n",
              "    <tr style=\"text-align: right;\">\n",
              "      <th></th>\n",
              "      <th>LDA 1</th>\n",
              "      <th>LDA 2</th>\n",
              "    </tr>\n",
              "  </thead>\n",
              "  <tbody>\n",
              "    <tr>\n",
              "      <th>0</th>\n",
              "      <td>8.084953</td>\n",
              "      <td>0.328454</td>\n",
              "    </tr>\n",
              "    <tr>\n",
              "      <th>1</th>\n",
              "      <td>7.147163</td>\n",
              "      <td>-0.755473</td>\n",
              "    </tr>\n",
              "    <tr>\n",
              "      <th>2</th>\n",
              "      <td>7.511378</td>\n",
              "      <td>-0.238078</td>\n",
              "    </tr>\n",
              "    <tr>\n",
              "      <th>3</th>\n",
              "      <td>6.837676</td>\n",
              "      <td>-0.642885</td>\n",
              "    </tr>\n",
              "    <tr>\n",
              "      <th>4</th>\n",
              "      <td>8.157814</td>\n",
              "      <td>0.540639</td>\n",
              "    </tr>\n",
              "    <tr>\n",
              "      <th>...</th>\n",
              "      <td>...</td>\n",
              "      <td>...</td>\n",
              "    </tr>\n",
              "    <tr>\n",
              "      <th>145</th>\n",
              "      <td>-5.674013</td>\n",
              "      <td>1.661346</td>\n",
              "    </tr>\n",
              "    <tr>\n",
              "      <th>146</th>\n",
              "      <td>-5.197129</td>\n",
              "      <td>-0.365506</td>\n",
              "    </tr>\n",
              "    <tr>\n",
              "      <th>147</th>\n",
              "      <td>-4.981712</td>\n",
              "      <td>0.812973</td>\n",
              "    </tr>\n",
              "    <tr>\n",
              "      <th>148</th>\n",
              "      <td>-5.901486</td>\n",
              "      <td>2.320751</td>\n",
              "    </tr>\n",
              "    <tr>\n",
              "      <th>149</th>\n",
              "      <td>-4.684009</td>\n",
              "      <td>0.325081</td>\n",
              "    </tr>\n",
              "  </tbody>\n",
              "</table>\n",
              "<p>150 rows × 2 columns</p>\n",
              "</div>\n",
              "      <button class=\"colab-df-convert\" onclick=\"convertToInteractive('df-b965af5b-3be5-4779-b60a-fa8326af91ce')\"\n",
              "              title=\"Convert this dataframe to an interactive table.\"\n",
              "              style=\"display:none;\">\n",
              "        \n",
              "  <svg xmlns=\"http://www.w3.org/2000/svg\" height=\"24px\"viewBox=\"0 0 24 24\"\n",
              "       width=\"24px\">\n",
              "    <path d=\"M0 0h24v24H0V0z\" fill=\"none\"/>\n",
              "    <path d=\"M18.56 5.44l.94 2.06.94-2.06 2.06-.94-2.06-.94-.94-2.06-.94 2.06-2.06.94zm-11 1L8.5 8.5l.94-2.06 2.06-.94-2.06-.94L8.5 2.5l-.94 2.06-2.06.94zm10 10l.94 2.06.94-2.06 2.06-.94-2.06-.94-.94-2.06-.94 2.06-2.06.94z\"/><path d=\"M17.41 7.96l-1.37-1.37c-.4-.4-.92-.59-1.43-.59-.52 0-1.04.2-1.43.59L10.3 9.45l-7.72 7.72c-.78.78-.78 2.05 0 2.83L4 21.41c.39.39.9.59 1.41.59.51 0 1.02-.2 1.41-.59l7.78-7.78 2.81-2.81c.8-.78.8-2.07 0-2.86zM5.41 20L4 18.59l7.72-7.72 1.47 1.35L5.41 20z\"/>\n",
              "  </svg>\n",
              "      </button>\n",
              "      \n",
              "  <style>\n",
              "    .colab-df-container {\n",
              "      display:flex;\n",
              "      flex-wrap:wrap;\n",
              "      gap: 12px;\n",
              "    }\n",
              "\n",
              "    .colab-df-convert {\n",
              "      background-color: #E8F0FE;\n",
              "      border: none;\n",
              "      border-radius: 50%;\n",
              "      cursor: pointer;\n",
              "      display: none;\n",
              "      fill: #1967D2;\n",
              "      height: 32px;\n",
              "      padding: 0 0 0 0;\n",
              "      width: 32px;\n",
              "    }\n",
              "\n",
              "    .colab-df-convert:hover {\n",
              "      background-color: #E2EBFA;\n",
              "      box-shadow: 0px 1px 2px rgba(60, 64, 67, 0.3), 0px 1px 3px 1px rgba(60, 64, 67, 0.15);\n",
              "      fill: #174EA6;\n",
              "    }\n",
              "\n",
              "    [theme=dark] .colab-df-convert {\n",
              "      background-color: #3B4455;\n",
              "      fill: #D2E3FC;\n",
              "    }\n",
              "\n",
              "    [theme=dark] .colab-df-convert:hover {\n",
              "      background-color: #434B5C;\n",
              "      box-shadow: 0px 1px 3px 1px rgba(0, 0, 0, 0.15);\n",
              "      filter: drop-shadow(0px 1px 2px rgba(0, 0, 0, 0.3));\n",
              "      fill: #FFFFFF;\n",
              "    }\n",
              "  </style>\n",
              "\n",
              "      <script>\n",
              "        const buttonEl =\n",
              "          document.querySelector('#df-b965af5b-3be5-4779-b60a-fa8326af91ce button.colab-df-convert');\n",
              "        buttonEl.style.display =\n",
              "          google.colab.kernel.accessAllowed ? 'block' : 'none';\n",
              "\n",
              "        async function convertToInteractive(key) {\n",
              "          const element = document.querySelector('#df-b965af5b-3be5-4779-b60a-fa8326af91ce');\n",
              "          const dataTable =\n",
              "            await google.colab.kernel.invokeFunction('convertToInteractive',\n",
              "                                                     [key], {});\n",
              "          if (!dataTable) return;\n",
              "\n",
              "          const docLinkHtml = 'Like what you see? Visit the ' +\n",
              "            '<a target=\"_blank\" href=https://colab.research.google.com/notebooks/data_table.ipynb>data table notebook</a>'\n",
              "            + ' to learn more about interactive tables.';\n",
              "          element.innerHTML = '';\n",
              "          dataTable['output_type'] = 'display_data';\n",
              "          await google.colab.output.renderOutput(dataTable, element);\n",
              "          const docLink = document.createElement('div');\n",
              "          docLink.innerHTML = docLinkHtml;\n",
              "          element.appendChild(docLink);\n",
              "        }\n",
              "      </script>\n",
              "    </div>\n",
              "  </div>\n",
              "  "
            ]
          },
          "metadata": {},
          "execution_count": 22
        }
      ]
    },
    {
      "cell_type": "code",
      "source": [
        "xaxis=newx[\"LDA 1\"]\n",
        "yaxis=newx[\"LDA 2\"]"
      ],
      "metadata": {
        "id": "BBcAUmb6scym"
      },
      "execution_count": 23,
      "outputs": []
    },
    {
      "cell_type": "code",
      "source": [
        "import matplotlib.pyplot as plt\n",
        "fig = plt.figure()\n",
        "plt.scatter(xaxis,yaxis)"
      ],
      "metadata": {
        "colab": {
          "base_uri": "https://localhost:8080/",
          "height": 285
        },
        "id": "uBYkE5V9smf_",
        "outputId": "ce40e23d-4ff0-42bf-d799-f42a8c9fb03e"
      },
      "execution_count": 24,
      "outputs": [
        {
          "output_type": "execute_result",
          "data": {
            "text/plain": [
              "<matplotlib.collections.PathCollection at 0x7f5468933c10>"
            ]
          },
          "metadata": {},
          "execution_count": 24
        },
        {
          "output_type": "display_data",
          "data": {
            "text/plain": [
              "<Figure size 432x288 with 1 Axes>"
            ],
            "image/png": "[encoded data removed]"
          },
          "metadata": {
            "needs_background": "light"
          }
        }
      ]
    },
    {
      "cell_type": "code",
      "source": [
        "from sklearn.cluster import KMeans\n",
        "kmeans = KMeans(n_clusters=2, random_state=0).fit(newx)"
      ],
      "metadata": {
        "id": "FWuTXOkqsqiM"
      },
      "execution_count": 25,
      "outputs": []
    },
    {
      "cell_type": "code",
      "source": [
        "centers=kmeans.cluster_centers_\n",
        "labels= kmeans.labels_\n",
        "labels"
      ],
      "metadata": {
        "colab": {
          "base_uri": "https://localhost:8080/"
        },
        "id": "mK_FM5Qwsx8j",
        "outputId": "2493cccb-0e61-4ffc-be58-f0f8edfe6f07"
      },
      "execution_count": 26,
      "outputs": [
        {
          "output_type": "execute_result",
          "data": {
            "text/plain": [
              "array([0, 0, 0, 0, 0, 0, 0, 0, 0, 0, 0, 0, 0, 0, 0, 0, 0, 0, 0, 0, 0, 0,\n",
              "       0, 0, 0, 0, 0, 0, 0, 0, 0, 0, 0, 0, 0, 0, 0, 0, 0, 0, 0, 0, 0, 0,\n",
              "       0, 0, 0, 0, 0, 0, 1, 1, 1, 1, 1, 1, 1, 1, 1, 1, 1, 1, 1, 1, 1, 1,\n",
              "       1, 1, 1, 1, 1, 1, 1, 1, 1, 1, 1, 1, 1, 1, 1, 1, 1, 1, 1, 1, 1, 1,\n",
              "       1, 1, 1, 1, 1, 1, 1, 1, 1, 1, 1, 1, 1, 1, 1, 1, 1, 1, 1, 1, 1, 1,\n",
              "       1, 1, 1, 1, 1, 1, 1, 1, 1, 1, 1, 1, 1, 1, 1, 1, 1, 1, 1, 1, 1, 1,\n",
              "       1, 1, 1, 1, 1, 1, 1, 1, 1, 1, 1, 1, 1, 1, 1, 1, 1, 1], dtype=int32)"
            ]
          },
          "metadata": {},
          "execution_count": 26
        }
      ]
    },
    {
      "cell_type": "code",
      "source": [
        "plt.scatter(xaxis,yaxis,c=labels,cmap='rainbow')\n"
      ],
      "metadata": {
        "colab": {
          "base_uri": "https://localhost:8080/",
          "height": 285
        },
        "id": "YvtrA5CGs0sf",
        "outputId": "cd8a3451-ff3f-4ad2-8c7e-f60f0d460d15"
      },
      "execution_count": 27,
      "outputs": [
        {
          "output_type": "execute_result",
          "data": {
            "text/plain": [
              "<matplotlib.collections.PathCollection at 0x7f5467540210>"
            ]
          },
          "metadata": {},
          "execution_count": 27
        },
        {
          "output_type": "display_data",
          "data": {
            "text/plain": [
              "<Figure size 432x288 with 1 Axes>"
            ],
            "image/png": "[encoded data removed]"
          },
          "metadata": {
            "needs_background": "light"
          }
        }
      ]
    }
  ]
}