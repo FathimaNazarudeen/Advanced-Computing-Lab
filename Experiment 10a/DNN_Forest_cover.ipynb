{
  "nbformat": 4,
  "nbformat_minor": 0,
  "metadata": {
    "colab": {
      "name": "DNN_Forest_cover.ipynb",
      "provenance": [],
      "collapsed_sections": [],
      "include_colab_link": true
    },
    "kernelspec": {
      "name": "python3",
      "display_name": "Python 3"
    },
    "language_info": {
      "name": "python"
    },
    "accelerator": "GPU"
  },
  "cells": [
    {
      "cell_type": "markdown",
      "metadata": {
        "id": "view-in-github",
        "colab_type": "text"
      },
      "source": [
        "<a href=\"https://colab.research.google.com/github/FathimaNazarudeen/Advanced-Computing-Lab/blob/main/Experiment%2010a/DNN_Forest_cover.ipynb\" target=\"_parent\"><img src=\"https://colab.research.google.com/assets/colab-badge.svg\" alt=\"Open In Colab\"/></a>"
      ]
    },
    {
      "cell_type": "code",
      "execution_count": 61,
      "metadata": {
        "id": "vy6Y1yeDnG-Y"
      },
      "outputs": [],
      "source": [
        "from sklearn.datasets import fetch_covtype\n",
        "X,y=fetch_covtype(return_X_y=True)"
      ]
    },
    {
      "cell_type": "code",
      "source": [
        "X"
      ],
      "metadata": {
        "colab": {
          "base_uri": "https://localhost:8080/"
        },
        "id": "XjbEziuHoBuF",
        "outputId": "90425c3a-fc28-4540-db8f-9477b474e3d3"
      },
      "execution_count": 62,
      "outputs": [
        {
          "output_type": "execute_result",
          "data": {
            "text/plain": [
              "array([[2.596e+03, 5.100e+01, 3.000e+00, ..., 0.000e+00, 0.000e+00,\n",
              "        0.000e+00],\n",
              "       [2.590e+03, 5.600e+01, 2.000e+00, ..., 0.000e+00, 0.000e+00,\n",
              "        0.000e+00],\n",
              "       [2.804e+03, 1.390e+02, 9.000e+00, ..., 0.000e+00, 0.000e+00,\n",
              "        0.000e+00],\n",
              "       ...,\n",
              "       [2.386e+03, 1.590e+02, 1.700e+01, ..., 0.000e+00, 0.000e+00,\n",
              "        0.000e+00],\n",
              "       [2.384e+03, 1.700e+02, 1.500e+01, ..., 0.000e+00, 0.000e+00,\n",
              "        0.000e+00],\n",
              "       [2.383e+03, 1.650e+02, 1.300e+01, ..., 0.000e+00, 0.000e+00,\n",
              "        0.000e+00]])"
            ]
          },
          "metadata": {},
          "execution_count": 62
        }
      ]
    },
    {
      "cell_type": "code",
      "source": [
        "y"
      ],
      "metadata": {
        "colab": {
          "base_uri": "https://localhost:8080/"
        },
        "id": "cn_bY6GSok8Z",
        "outputId": "ad911e24-93cb-4421-a1e8-e63f84ea148e"
      },
      "execution_count": 63,
      "outputs": [
        {
          "output_type": "execute_result",
          "data": {
            "text/plain": [
              "array([5, 5, 2, ..., 3, 3, 3], dtype=int32)"
            ]
          },
          "metadata": {},
          "execution_count": 63
        }
      ]
    },
    {
      "cell_type": "code",
      "source": [
        "print(set(y))"
      ],
      "metadata": {
        "colab": {
          "base_uri": "https://localhost:8080/"
        },
        "id": "GQskpdUetpG3",
        "outputId": "287f9d7a-6ec0-48f4-d75b-5cb38f74f61c"
      },
      "execution_count": 64,
      "outputs": [
        {
          "output_type": "stream",
          "name": "stdout",
          "text": [
            "{1, 2, 3, 4, 5, 6, 7}\n"
          ]
        }
      ]
    },
    {
      "cell_type": "code",
      "source": [
        "y=y-1"
      ],
      "metadata": {
        "id": "eANxq5aettSC"
      },
      "execution_count": 65,
      "outputs": []
    },
    {
      "cell_type": "code",
      "source": [
        "print(set(y))"
      ],
      "metadata": {
        "colab": {
          "base_uri": "https://localhost:8080/"
        },
        "id": "ngjzZNiftwAB",
        "outputId": "478f8b08-a67f-45ef-fbc2-4e8bbc1c1a0c"
      },
      "execution_count": 66,
      "outputs": [
        {
          "output_type": "stream",
          "name": "stdout",
          "text": [
            "{0, 1, 2, 3, 4, 5, 6}\n"
          ]
        }
      ]
    },
    {
      "cell_type": "code",
      "source": [
        "import numpy as np\n"
      ],
      "metadata": {
        "id": "n-w0nMzlom8x"
      },
      "execution_count": 67,
      "outputs": []
    },
    {
      "cell_type": "code",
      "source": [
        "np.shape(X)"
      ],
      "metadata": {
        "colab": {
          "base_uri": "https://localhost:8080/"
        },
        "id": "awJHpK-Co1kG",
        "outputId": "4b0963d3-1d67-4751-fd5d-1476cd81f274"
      },
      "execution_count": 68,
      "outputs": [
        {
          "output_type": "execute_result",
          "data": {
            "text/plain": [
              "(581012, 54)"
            ]
          },
          "metadata": {},
          "execution_count": 68
        }
      ]
    },
    {
      "cell_type": "code",
      "source": [
        "np.shape(y)"
      ],
      "metadata": {
        "colab": {
          "base_uri": "https://localhost:8080/"
        },
        "id": "UHH3YMkbo3Ja",
        "outputId": "61d7574e-455a-451b-aa34-b8bc3c161314"
      },
      "execution_count": 69,
      "outputs": [
        {
          "output_type": "execute_result",
          "data": {
            "text/plain": [
              "(581012,)"
            ]
          },
          "metadata": {},
          "execution_count": 69
        }
      ]
    },
    {
      "cell_type": "code",
      "source": [
        "from sklearn.model_selection import train_test_split\n",
        "x_train, x_test, y_train, y_test = train_test_split(X, y, test_size=0.2)"
      ],
      "metadata": {
        "id": "Oxreeiz5o4-O"
      },
      "execution_count": 70,
      "outputs": []
    },
    {
      "cell_type": "code",
      "source": [
        "import tensorflow as tf\n",
        "from tensorflow import keras"
      ],
      "metadata": {
        "id": "UWSlJqTUpHr7"
      },
      "execution_count": 71,
      "outputs": []
    },
    {
      "cell_type": "code",
      "source": [
        "model=keras.models.Sequential()"
      ],
      "metadata": {
        "id": "gzjAs9NwpMaJ"
      },
      "execution_count": 72,
      "outputs": []
    },
    {
      "cell_type": "code",
      "source": [
        "model.add(keras.layers.Dense(units=150,activation='relu',input_dim=X.shape[1]))"
      ],
      "metadata": {
        "id": "ObEu1R3PpQET"
      },
      "execution_count": 73,
      "outputs": []
    },
    {
      "cell_type": "code",
      "source": [
        "model.add(keras.layers.Dense(units=80,activation='relu'))"
      ],
      "metadata": {
        "id": "bL6_IdalpTxw"
      },
      "execution_count": 74,
      "outputs": []
    },
    {
      "cell_type": "code",
      "source": [
        "model.add(keras.layers.BatchNormalization(axis=-1,momentum=0.99,epsilon=0.001))"
      ],
      "metadata": {
        "id": "99jd5u_7K-Nd"
      },
      "execution_count": 75,
      "outputs": []
    },
    {
      "cell_type": "code",
      "source": [
        "model.add(keras.layers.Dropout(0.7))"
      ],
      "metadata": {
        "id": "7nD1V5u1M7FH"
      },
      "execution_count": 76,
      "outputs": []
    },
    {
      "cell_type": "code",
      "source": [
        "model.add(keras.layers.Dense(units=90,activation='relu'))"
      ],
      "metadata": {
        "id": "ClUws1Uppb0O"
      },
      "execution_count": 77,
      "outputs": []
    },
    {
      "cell_type": "code",
      "source": [
        "model.add(keras.layers.Dense(units=7,activation='softmax'))"
      ],
      "metadata": {
        "id": "lTbLn5aFpd-U"
      },
      "execution_count": 78,
      "outputs": []
    },
    {
      "cell_type": "code",
      "source": [
        "callback = tf.keras.callbacks.EarlyStopping(monitor='accuracy', patience=3)\n",
        "checkpoint=keras.callbacks.ModelCheckpoint(\"/content/bestModel_ForestCover.h5\",monitor='val_loss')"
      ],
      "metadata": {
        "id": "_V9DQQ4kNQaz"
      },
      "execution_count": 85,
      "outputs": []
    },
    {
      "cell_type": "code",
      "source": [
        "model.summary()"
      ],
      "metadata": {
        "colab": {
          "base_uri": "https://localhost:8080/"
        },
        "id": "1jL9DmRJpgMi",
        "outputId": "d68908c4-7a25-4323-affd-3fbc54291f63"
      },
      "execution_count": 86,
      "outputs": [
        {
          "output_type": "stream",
          "name": "stdout",
          "text": [
            "Model: \"sequential_2\"\n",
            "_________________________________________________________________\n",
            " Layer (type)                Output Shape              Param #   \n",
            "=================================================================\n",
            " dense_8 (Dense)             (None, 150)               8250      \n",
            "                                                                 \n",
            " dense_9 (Dense)             (None, 80)                12080     \n",
            "                                                                 \n",
            " batch_normalization_2 (Batc  (None, 80)               320       \n",
            " hNormalization)                                                 \n",
            "                                                                 \n",
            " dropout_2 (Dropout)         (None, 80)                0         \n",
            "                                                                 \n",
            " dense_10 (Dense)            (None, 90)                7290      \n",
            "                                                                 \n",
            " dense_11 (Dense)            (None, 7)                 637       \n",
            "                                                                 \n",
            "=================================================================\n",
            "Total params: 28,577\n",
            "Trainable params: 28,417\n",
            "Non-trainable params: 160\n",
            "_________________________________________________________________\n"
          ]
        }
      ]
    },
    {
      "cell_type": "code",
      "source": [
        "model.compile(loss='sparse_categorical_crossentropy',optimizer='adam',metrics=['accuracy'])"
      ],
      "metadata": {
        "id": "QXIr8BXapidv"
      },
      "execution_count": 87,
      "outputs": []
    },
    {
      "cell_type": "code",
      "source": [
        "model.fit(x_train,y_train,epochs=500,batch_size=1000,callbacks=[callback,checkpoint])"
      ],
      "metadata": {
        "colab": {
          "base_uri": "https://localhost:8080/"
        },
        "id": "u-lcOo2vpyEO",
        "outputId": "f4b4d5fc-3369-4253-d110-c12f8d2b8b46"
      },
      "execution_count": 88,
      "outputs": [
        {
          "output_type": "stream",
          "name": "stdout",
          "text": [
            "Epoch 1/500\n",
            "465/465 [==============================] - 2s 4ms/step - loss: 0.8798 - accuracy: 0.6385\n",
            "Epoch 2/500\n",
            "465/465 [==============================] - 2s 4ms/step - loss: 0.7480 - accuracy: 0.6884\n",
            "Epoch 3/500\n",
            "465/465 [==============================] - 2s 4ms/step - loss: 0.7196 - accuracy: 0.7018\n",
            "Epoch 4/500\n",
            "465/465 [==============================] - 2s 3ms/step - loss: 0.7017 - accuracy: 0.7068\n",
            "Epoch 5/500\n",
            "465/465 [==============================] - 2s 3ms/step - loss: 0.6831 - accuracy: 0.7127\n",
            "Epoch 6/500\n",
            "465/465 [==============================] - 2s 4ms/step - loss: 0.6703 - accuracy: 0.7182\n",
            "Epoch 7/500\n",
            "465/465 [==============================] - 3s 7ms/step - loss: 0.6570 - accuracy: 0.7225\n",
            "Epoch 8/500\n",
            "465/465 [==============================] - 3s 6ms/step - loss: 0.6434 - accuracy: 0.7279\n",
            "Epoch 9/500\n",
            "465/465 [==============================] - 2s 3ms/step - loss: 0.6320 - accuracy: 0.7322\n",
            "Epoch 10/500\n",
            "465/465 [==============================] - 2s 4ms/step - loss: 0.6233 - accuracy: 0.7353\n",
            "Epoch 11/500\n",
            "465/465 [==============================] - 2s 3ms/step - loss: 0.6160 - accuracy: 0.7384\n",
            "Epoch 12/500\n",
            "465/465 [==============================] - 2s 4ms/step - loss: 0.6094 - accuracy: 0.7410\n",
            "Epoch 13/500\n",
            "465/465 [==============================] - 2s 3ms/step - loss: 0.6045 - accuracy: 0.7437\n",
            "Epoch 14/500\n",
            "465/465 [==============================] - 2s 3ms/step - loss: 0.6004 - accuracy: 0.7455\n",
            "Epoch 15/500\n",
            "465/465 [==============================] - 2s 3ms/step - loss: 0.5947 - accuracy: 0.7485\n",
            "Epoch 16/500\n",
            "465/465 [==============================] - 2s 3ms/step - loss: 0.5899 - accuracy: 0.7493\n",
            "Epoch 17/500\n",
            "465/465 [==============================] - 2s 3ms/step - loss: 0.5869 - accuracy: 0.7505\n",
            "Epoch 18/500\n",
            "465/465 [==============================] - 2s 5ms/step - loss: 0.5826 - accuracy: 0.7534\n",
            "Epoch 19/500\n",
            "465/465 [==============================] - 2s 3ms/step - loss: 0.5794 - accuracy: 0.7536\n",
            "Epoch 20/500\n",
            "465/465 [==============================] - 2s 3ms/step - loss: 0.5770 - accuracy: 0.7557\n",
            "Epoch 21/500\n",
            "465/465 [==============================] - 2s 3ms/step - loss: 0.5751 - accuracy: 0.7565\n",
            "Epoch 22/500\n",
            "465/465 [==============================] - 2s 3ms/step - loss: 0.5710 - accuracy: 0.7585\n",
            "Epoch 23/500\n",
            "465/465 [==============================] - 2s 3ms/step - loss: 0.5801 - accuracy: 0.7540\n",
            "Epoch 24/500\n",
            "465/465 [==============================] - 2s 3ms/step - loss: 0.5783 - accuracy: 0.7551\n",
            "Epoch 25/500\n",
            "465/465 [==============================] - 2s 3ms/step - loss: 0.5723 - accuracy: 0.7577\n"
          ]
        },
        {
          "output_type": "execute_result",
          "data": {
            "text/plain": [
              "<keras.callbacks.History at 0x7fd192dbee90>"
            ]
          },
          "metadata": {},
          "execution_count": 88
        }
      ]
    },
    {
      "cell_type": "code",
      "source": [
        "test_loss,test_accuracy=model.evaluate(x_test,y_test)"
      ],
      "metadata": {
        "colab": {
          "base_uri": "https://localhost:8080/"
        },
        "id": "R7PYTKYKyexm",
        "outputId": "7db5365c-8392-484c-d591-01ff8885a3fb"
      },
      "execution_count": 89,
      "outputs": [
        {
          "output_type": "stream",
          "name": "stdout",
          "text": [
            "3632/3632 [==============================] - 8s 2ms/step - loss: 0.7700 - accuracy: 0.6958\n"
          ]
        }
      ]
    },
    {
      "cell_type": "code",
      "source": [
        "model.save(\"/content/dnn\")"
      ],
      "metadata": {
        "id": "jSxpEjlKNmA5"
      },
      "execution_count": null,
      "outputs": []
    },
    {
      "cell_type": "code",
      "source": [
        "#print(test_loss,test_accuracy)\n"
      ],
      "metadata": {
        "id": "skET86sOyfY3"
      },
      "execution_count": null,
      "outputs": []
    },
    {
      "cell_type": "code",
      "source": [
        "#print(test_loss,test_accuracy)"
      ],
      "metadata": {
        "id": "y-1trH7dykos"
      },
      "execution_count": null,
      "outputs": []
    },
    {
      "cell_type": "code",
      "source": [
        "#print(test_loss,test_accuracy)kmeans clustering"
      ],
      "metadata": {
        "id": "T9cWVghSNEaK"
      },
      "execution_count": null,
      "outputs": []
    },
    {
      "cell_type": "code",
      "source": [
        "print(test_loss,test_accuracy)"
      ],
      "metadata": {
        "id": "V2Q9GgvWNtJX"
      },
      "execution_count": null,
      "outputs": []
    }
  ]
}