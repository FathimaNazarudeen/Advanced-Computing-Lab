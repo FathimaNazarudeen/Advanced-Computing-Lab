{
  "nbformat": 4,
  "nbformat_minor": 0,
  "metadata": {
    "colab": {
      "name": "CNN.ipynb",
      "provenance": [],
      "collapsed_sections": [],
      "include_colab_link": true
    },
    "kernelspec": {
      "name": "python3",
      "display_name": "Python 3"
    },
    "language_info": {
      "name": "python"
    },
    "accelerator": "GPU",
    "gpuClass": "standard"
  },
  "cells": [
    {
      "cell_type": "markdown",
      "metadata": {
        "id": "view-in-github",
        "colab_type": "text"
      },
      "source": [
        "<a href=\"https://colab.research.google.com/github/FathimaNazarudeen/Advanced-Computing-Lab/blob/main/Experiment%2013/MNIST.ipynb\" target=\"_parent\"><img src=\"https://colab.research.google.com/assets/colab-badge.svg\" alt=\"Open In Colab\"/></a>"
      ]
    },
    {
      "cell_type": "code",
      "execution_count": 1,
      "metadata": {
        "id": "Kwtnk45XdyAU"
      },
      "outputs": [],
      "source": [
        "import tensorflow as tf\n",
        "from tensorflow import keras\n",
        "data=keras.datasets.mnist"
      ]
    },
    {
      "cell_type": "code",
      "source": [
        "(X_train,y_train),(X_test,y_test)=data.load_data()"
      ],
      "metadata": {
        "id": "ygXHCvOSmKHn",
        "colab": {
          "base_uri": "https://localhost:8080/"
        },
        "outputId": "276d49f2-9980-499f-91a8-cd41b9740314"
      },
      "execution_count": 2,
      "outputs": [
        {
          "output_type": "stream",
          "name": "stdout",
          "text": [
            "Downloading data from https://storage.googleapis.com/tensorflow/tf-keras-datasets/mnist.npz\n",
            "11493376/11490434 [==============================] - 0s 0us/step\n",
            "11501568/11490434 [==============================] - 0s 0us/step\n"
          ]
        }
      ]
    },
    {
      "cell_type": "code",
      "source": [
        "X_train.shape"
      ],
      "metadata": {
        "colab": {
          "base_uri": "https://localhost:8080/"
        },
        "id": "CDG510Hbmgn1",
        "outputId": "3a7a8de7-900e-4cee-c933-cdb7b3edbf38"
      },
      "execution_count": 3,
      "outputs": [
        {
          "output_type": "execute_result",
          "data": {
            "text/plain": [
              "(60000, 28, 28)"
            ]
          },
          "metadata": {},
          "execution_count": 3
        }
      ]
    },
    {
      "cell_type": "code",
      "source": [
        "y_train.shape"
      ],
      "metadata": {
        "colab": {
          "base_uri": "https://localhost:8080/"
        },
        "id": "TIF4ZThrnohB",
        "outputId": "b0ad44af-74d2-491f-c966-0d776d4ae574"
      },
      "execution_count": 4,
      "outputs": [
        {
          "output_type": "execute_result",
          "data": {
            "text/plain": [
              "(60000,)"
            ]
          },
          "metadata": {},
          "execution_count": 4
        }
      ]
    },
    {
      "cell_type": "code",
      "source": [
        "X_test.shape"
      ],
      "metadata": {
        "colab": {
          "base_uri": "https://localhost:8080/"
        },
        "id": "F_tvJ-M3nqtq",
        "outputId": "95b1ee8f-83a1-4a9b-9e29-46fdb6cd7be5"
      },
      "execution_count": 5,
      "outputs": [
        {
          "output_type": "execute_result",
          "data": {
            "text/plain": [
              "(10000, 28, 28)"
            ]
          },
          "metadata": {},
          "execution_count": 5
        }
      ]
    },
    {
      "cell_type": "code",
      "source": [
        "y_test.shape"
      ],
      "metadata": {
        "colab": {
          "base_uri": "https://localhost:8080/"
        },
        "id": "_SXmW-RFns-j",
        "outputId": "0e0c1302-8c01-48dc-af4b-aaac1228fa0c"
      },
      "execution_count": 6,
      "outputs": [
        {
          "output_type": "execute_result",
          "data": {
            "text/plain": [
              "(10000,)"
            ]
          },
          "metadata": {},
          "execution_count": 6
        }
      ]
    },
    {
      "cell_type": "code",
      "source": [
        "import matplotlib.pyplot as plt\n",
        "plt.imshow(X_train[58500],cmap='binary')"
      ],
      "metadata": {
        "colab": {
          "base_uri": "https://localhost:8080/",
          "height": 282
        },
        "id": "3mr50iwsnvLr",
        "outputId": "a4233d9f-04c2-492f-f4c8-bad716993553"
      },
      "execution_count": 7,
      "outputs": [
        {
          "output_type": "execute_result",
          "data": {
            "text/plain": [
              "<matplotlib.image.AxesImage at 0x7f0f47762a50>"
            ]
          },
          "metadata": {},
          "execution_count": 7
        },
        {
          "output_type": "display_data",
          "data": {
            "text/plain": [
              "<Figure size 432x288 with 1 Axes>"
            ],
            "image/png": "[encoded data removed]"
          },
          "metadata": {
            "needs_background": "light"
          }
        }
      ]
    },
    {
      "cell_type": "code",
      "source": [
        "y_train[58500]"
      ],
      "metadata": {
        "colab": {
          "base_uri": "https://localhost:8080/"
        },
        "id": "4EZQHRJVqv_V",
        "outputId": "231bea49-0637-4e3f-ca78-60a3ba6dde10"
      },
      "execution_count": 8,
      "outputs": [
        {
          "output_type": "execute_result",
          "data": {
            "text/plain": [
              "0"
            ]
          },
          "metadata": {},
          "execution_count": 8
        }
      ]
    },
    {
      "cell_type": "code",
      "source": [
        "X_train=X_train.reshape((60000,28,28,1))"
      ],
      "metadata": {
        "id": "lfTX8Voeq1-8"
      },
      "execution_count": 9,
      "outputs": []
    },
    {
      "cell_type": "code",
      "source": [
        "X_test=X_test.reshape((10000,28,28,1))"
      ],
      "metadata": {
        "id": "D1q0CIA4rSvT"
      },
      "execution_count": 10,
      "outputs": []
    },
    {
      "cell_type": "code",
      "source": [
        "X_train=X_train.astype('float32')/255"
      ],
      "metadata": {
        "id": "y9KcVpE1rYgH"
      },
      "execution_count": 11,
      "outputs": []
    },
    {
      "cell_type": "code",
      "source": [
        "X_test=X_test.astype('float32')/255"
      ],
      "metadata": {
        "id": "EzJy48Vpro9D"
      },
      "execution_count": 12,
      "outputs": []
    },
    {
      "cell_type": "code",
      "source": [
        "model=keras.models.Sequential()"
      ],
      "metadata": {
        "id": "l1mFeFRZrwLu"
      },
      "execution_count": 13,
      "outputs": []
    },
    {
      "cell_type": "code",
      "source": [
        "model.add(keras.layers.Conv2D(32,(3,3),activation='relu',input_shape=X_train.shape[1:]))\n",
        "model.add(keras.layers.Conv2D(64,(3,3),activation='relu'))\n",
        "model.add(keras.layers.MaxPooling2D((2,2)))\n",
        "model.add(keras.layers.Dropout(0.25))\n",
        "model.add(keras.layers.Flatten())\n",
        "model.add(keras.layers.Dense(128,activation=\"relu\"))\n",
        "model.add(keras.layers.Dropout(0.25))\n",
        "model.add(keras.layers.Dense(10,activation=\"softmax\"))"
      ],
      "metadata": {
        "id": "6udSwZnxr2-v"
      },
      "execution_count": 14,
      "outputs": []
    },
    {
      "cell_type": "code",
      "source": [
        "#callback = tf.keras.callbacks.EarlyStopping(monitor='accuracy', patience=3,restore_best_weights=True)"
      ],
      "metadata": {
        "id": "q0ZyYc6nupuR"
      },
      "execution_count": 15,
      "outputs": []
    },
    {
      "cell_type": "code",
      "source": [
        "model.summary()"
      ],
      "metadata": {
        "colab": {
          "base_uri": "https://localhost:8080/"
        },
        "id": "rlRnBpnftx8W",
        "outputId": "e4e8edab-276b-44ae-c327-7e751c1c630d"
      },
      "execution_count": 16,
      "outputs": [
        {
          "output_type": "stream",
          "name": "stdout",
          "text": [
            "Model: \"sequential\"\n",
            "_________________________________________________________________\n",
            " Layer (type)                Output Shape              Param #   \n",
            "=================================================================\n",
            " conv2d (Conv2D)             (None, 26, 26, 32)        320       \n",
            "                                                                 \n",
            " conv2d_1 (Conv2D)           (None, 24, 24, 64)        18496     \n",
            "                                                                 \n",
            " max_pooling2d (MaxPooling2D  (None, 12, 12, 64)       0         \n",
            " )                                                               \n",
            "                                                                 \n",
            " dropout (Dropout)           (None, 12, 12, 64)        0         \n",
            "                                                                 \n",
            " flatten (Flatten)           (None, 9216)              0         \n",
            "                                                                 \n",
            " dense (Dense)               (None, 128)               1179776   \n",
            "                                                                 \n",
            " dropout_1 (Dropout)         (None, 128)               0         \n",
            "                                                                 \n",
            " dense_1 (Dense)             (None, 10)                1290      \n",
            "                                                                 \n",
            "=================================================================\n",
            "Total params: 1,199,882\n",
            "Trainable params: 1,199,882\n",
            "Non-trainable params: 0\n",
            "_________________________________________________________________\n"
          ]
        }
      ]
    },
    {
      "cell_type": "code",
      "source": [
        "model.compile(loss='sparse_categorical_crossentropy',optimizer='adam',metrics=['accuracy'])"
      ],
      "metadata": {
        "id": "IWfY5DtJtsQz"
      },
      "execution_count": 17,
      "outputs": []
    },
    {
      "cell_type": "code",
      "source": [
        "model.fit(X_train,y_train,epochs=50,validation_data=(X_test,y_test))"
      ],
      "metadata": {
        "colab": {
          "base_uri": "https://localhost:8080/"
        },
        "id": "Q4bPKfrEt5_f",
        "outputId": "2d41cef2-fc30-4b85-c68b-2655dd42206e"
      },
      "execution_count": 18,
      "outputs": [
        {
          "output_type": "stream",
          "name": "stdout",
          "text": [
            "Epoch 1/50\n",
            "1875/1875 [==============================] - 21s 4ms/step - loss: 0.1448 - accuracy: 0.9552 - val_loss: 0.0502 - val_accuracy: 0.9845\n",
            "Epoch 2/50\n",
            "1875/1875 [==============================] - 8s 4ms/step - loss: 0.0547 - accuracy: 0.9834 - val_loss: 0.0354 - val_accuracy: 0.9877\n",
            "Epoch 3/50\n",
            "1875/1875 [==============================] - 7s 4ms/step - loss: 0.0415 - accuracy: 0.9873 - val_loss: 0.0364 - val_accuracy: 0.9881\n",
            "Epoch 4/50\n",
            "1875/1875 [==============================] - 8s 4ms/step - loss: 0.0315 - accuracy: 0.9896 - val_loss: 0.0328 - val_accuracy: 0.9892\n",
            "Epoch 5/50\n",
            "1875/1875 [==============================] - 7s 4ms/step - loss: 0.0250 - accuracy: 0.9919 - val_loss: 0.0289 - val_accuracy: 0.9908\n",
            "Epoch 6/50\n",
            "1875/1875 [==============================] - 7s 4ms/step - loss: 0.0204 - accuracy: 0.9931 - val_loss: 0.0341 - val_accuracy: 0.9901\n",
            "Epoch 7/50\n",
            "1875/1875 [==============================] - 7s 4ms/step - loss: 0.0178 - accuracy: 0.9943 - val_loss: 0.0303 - val_accuracy: 0.9914\n",
            "Epoch 8/50\n",
            "1875/1875 [==============================] - 8s 4ms/step - loss: 0.0157 - accuracy: 0.9945 - val_loss: 0.0324 - val_accuracy: 0.9916\n",
            "Epoch 9/50\n",
            "1875/1875 [==============================] - 7s 4ms/step - loss: 0.0127 - accuracy: 0.9957 - val_loss: 0.0400 - val_accuracy: 0.9902\n",
            "Epoch 10/50\n",
            "1875/1875 [==============================] - 7s 4ms/step - loss: 0.0118 - accuracy: 0.9958 - val_loss: 0.0356 - val_accuracy: 0.9904\n",
            "Epoch 11/50\n",
            "1875/1875 [==============================] - 8s 4ms/step - loss: 0.0128 - accuracy: 0.9961 - val_loss: 0.0375 - val_accuracy: 0.9915\n",
            "Epoch 12/50\n",
            "1875/1875 [==============================] - 8s 4ms/step - loss: 0.0108 - accuracy: 0.9964 - val_loss: 0.0397 - val_accuracy: 0.9908\n",
            "Epoch 13/50\n",
            "1875/1875 [==============================] - 8s 4ms/step - loss: 0.0105 - accuracy: 0.9966 - val_loss: 0.0408 - val_accuracy: 0.9912\n",
            "Epoch 14/50\n",
            "1875/1875 [==============================] - 7s 4ms/step - loss: 0.0083 - accuracy: 0.9972 - val_loss: 0.0404 - val_accuracy: 0.9913\n",
            "Epoch 15/50\n",
            "1875/1875 [==============================] - 7s 4ms/step - loss: 0.0093 - accuracy: 0.9969 - val_loss: 0.0431 - val_accuracy: 0.9913\n",
            "Epoch 16/50\n",
            "1875/1875 [==============================] - 7s 4ms/step - loss: 0.0090 - accuracy: 0.9968 - val_loss: 0.0415 - val_accuracy: 0.9922\n",
            "Epoch 17/50\n",
            "1875/1875 [==============================] - 7s 4ms/step - loss: 0.0071 - accuracy: 0.9977 - val_loss: 0.0388 - val_accuracy: 0.9928\n",
            "Epoch 18/50\n",
            "1875/1875 [==============================] - 8s 4ms/step - loss: 0.0077 - accuracy: 0.9977 - val_loss: 0.0370 - val_accuracy: 0.9924\n",
            "Epoch 19/50\n",
            "1875/1875 [==============================] - 8s 4ms/step - loss: 0.0084 - accuracy: 0.9974 - val_loss: 0.0467 - val_accuracy: 0.9910\n",
            "Epoch 20/50\n",
            "1875/1875 [==============================] - 7s 4ms/step - loss: 0.0060 - accuracy: 0.9982 - val_loss: 0.0470 - val_accuracy: 0.9905\n",
            "Epoch 21/50\n",
            "1875/1875 [==============================] - 8s 4ms/step - loss: 0.0082 - accuracy: 0.9974 - val_loss: 0.0544 - val_accuracy: 0.9913\n",
            "Epoch 22/50\n",
            "1875/1875 [==============================] - 7s 4ms/step - loss: 0.0062 - accuracy: 0.9980 - val_loss: 0.0595 - val_accuracy: 0.9906\n",
            "Epoch 23/50\n",
            "1875/1875 [==============================] - 7s 4ms/step - loss: 0.0064 - accuracy: 0.9980 - val_loss: 0.0603 - val_accuracy: 0.9912\n",
            "Epoch 24/50\n",
            "1875/1875 [==============================] - 7s 4ms/step - loss: 0.0063 - accuracy: 0.9980 - val_loss: 0.0693 - val_accuracy: 0.9892\n",
            "Epoch 25/50\n",
            "1875/1875 [==============================] - 8s 4ms/step - loss: 0.0060 - accuracy: 0.9981 - val_loss: 0.0507 - val_accuracy: 0.9921\n",
            "Epoch 26/50\n",
            "1875/1875 [==============================] - 7s 4ms/step - loss: 0.0069 - accuracy: 0.9979 - val_loss: 0.0526 - val_accuracy: 0.9910\n",
            "Epoch 27/50\n",
            "1875/1875 [==============================] - 7s 4ms/step - loss: 0.0060 - accuracy: 0.9980 - val_loss: 0.0502 - val_accuracy: 0.9908\n",
            "Epoch 28/50\n",
            "1875/1875 [==============================] - 8s 4ms/step - loss: 0.0063 - accuracy: 0.9978 - val_loss: 0.0591 - val_accuracy: 0.9917\n",
            "Epoch 29/50\n",
            "1875/1875 [==============================] - 7s 4ms/step - loss: 0.0055 - accuracy: 0.9983 - val_loss: 0.0524 - val_accuracy: 0.9914\n",
            "Epoch 30/50\n",
            "1875/1875 [==============================] - 8s 4ms/step - loss: 0.0058 - accuracy: 0.9981 - val_loss: 0.0470 - val_accuracy: 0.9925\n",
            "Epoch 31/50\n",
            "1875/1875 [==============================] - 7s 4ms/step - loss: 0.0048 - accuracy: 0.9986 - val_loss: 0.0570 - val_accuracy: 0.9916\n",
            "Epoch 32/50\n",
            "1875/1875 [==============================] - 7s 4ms/step - loss: 0.0066 - accuracy: 0.9980 - val_loss: 0.0579 - val_accuracy: 0.9921\n",
            "Epoch 33/50\n",
            "1875/1875 [==============================] - 8s 4ms/step - loss: 0.0054 - accuracy: 0.9983 - val_loss: 0.0550 - val_accuracy: 0.9913\n",
            "Epoch 34/50\n",
            "1875/1875 [==============================] - 7s 4ms/step - loss: 0.0049 - accuracy: 0.9987 - val_loss: 0.0591 - val_accuracy: 0.9915\n",
            "Epoch 35/50\n",
            "1875/1875 [==============================] - 7s 4ms/step - loss: 0.0058 - accuracy: 0.9984 - val_loss: 0.0542 - val_accuracy: 0.9928\n",
            "Epoch 36/50\n",
            "1875/1875 [==============================] - 7s 4ms/step - loss: 0.0062 - accuracy: 0.9984 - val_loss: 0.0558 - val_accuracy: 0.9913\n",
            "Epoch 37/50\n",
            "1875/1875 [==============================] - 7s 4ms/step - loss: 0.0053 - accuracy: 0.9984 - val_loss: 0.0703 - val_accuracy: 0.9909\n",
            "Epoch 38/50\n",
            "1875/1875 [==============================] - 7s 4ms/step - loss: 0.0056 - accuracy: 0.9983 - val_loss: 0.0574 - val_accuracy: 0.9920\n",
            "Epoch 39/50\n",
            "1875/1875 [==============================] - 8s 4ms/step - loss: 0.0045 - accuracy: 0.9986 - val_loss: 0.0690 - val_accuracy: 0.9915\n",
            "Epoch 40/50\n",
            "1875/1875 [==============================] - 8s 4ms/step - loss: 0.0054 - accuracy: 0.9985 - val_loss: 0.0654 - val_accuracy: 0.9913\n",
            "Epoch 41/50\n",
            "1875/1875 [==============================] - 8s 4ms/step - loss: 0.0046 - accuracy: 0.9986 - val_loss: 0.0651 - val_accuracy: 0.9918\n",
            "Epoch 42/50\n",
            "1875/1875 [==============================] - 7s 4ms/step - loss: 0.0052 - accuracy: 0.9985 - val_loss: 0.0668 - val_accuracy: 0.9911\n",
            "Epoch 43/50\n",
            "1875/1875 [==============================] - 7s 4ms/step - loss: 0.0054 - accuracy: 0.9984 - val_loss: 0.0624 - val_accuracy: 0.9924\n",
            "Epoch 44/50\n",
            "1875/1875 [==============================] - 7s 4ms/step - loss: 0.0059 - accuracy: 0.9984 - val_loss: 0.0551 - val_accuracy: 0.9918\n",
            "Epoch 45/50\n",
            "1875/1875 [==============================] - 8s 4ms/step - loss: 0.0049 - accuracy: 0.9986 - val_loss: 0.0643 - val_accuracy: 0.9914\n",
            "Epoch 46/50\n",
            "1875/1875 [==============================] - 8s 4ms/step - loss: 0.0054 - accuracy: 0.9985 - val_loss: 0.0729 - val_accuracy: 0.9899\n",
            "Epoch 47/50\n",
            "1875/1875 [==============================] - 7s 4ms/step - loss: 0.0058 - accuracy: 0.9983 - val_loss: 0.0682 - val_accuracy: 0.9909\n",
            "Epoch 48/50\n",
            "1875/1875 [==============================] - 7s 4ms/step - loss: 0.0059 - accuracy: 0.9984 - val_loss: 0.0631 - val_accuracy: 0.9925\n",
            "Epoch 49/50\n",
            "1875/1875 [==============================] - 8s 4ms/step - loss: 0.0049 - accuracy: 0.9986 - val_loss: 0.0707 - val_accuracy: 0.9922\n",
            "Epoch 50/50\n",
            "1875/1875 [==============================] - 8s 4ms/step - loss: 0.0048 - accuracy: 0.9987 - val_loss: 0.0592 - val_accuracy: 0.9922\n"
          ]
        },
        {
          "output_type": "execute_result",
          "data": {
            "text/plain": [
              "<keras.callbacks.History at 0x7f0f302788d0>"
            ]
          },
          "metadata": {},
          "execution_count": 18
        }
      ]
    },
    {
      "cell_type": "code",
      "source": [
        "test_loss,test_accuracy=model.evaluate(X_test,y_test)"
      ],
      "metadata": {
        "colab": {
          "base_uri": "https://localhost:8080/"
        },
        "id": "23KKVvcpxNov",
        "outputId": "94187bdb-3c0c-4341-9ffd-17b4dc5b75ec"
      },
      "execution_count": 19,
      "outputs": [
        {
          "output_type": "stream",
          "name": "stdout",
          "text": [
            "313/313 [==============================] - 1s 3ms/step - loss: 0.0592 - accuracy: 0.9922\n"
          ]
        }
      ]
    },
    {
      "cell_type": "code",
      "source": [
        "print(test_loss,test_accuracy)"
      ],
      "metadata": {
        "colab": {
          "base_uri": "https://localhost:8080/"
        },
        "id": "EGdmc84nxVkR",
        "outputId": "e88883cd-5006-4f4e-ffe7-d87bbdaab331"
      },
      "execution_count": 20,
      "outputs": [
        {
          "output_type": "stream",
          "name": "stdout",
          "text": [
            "0.059227507561445236 0.9922000169754028\n"
          ]
        }
      ]
    },
    {
      "cell_type": "code",
      "source": [
        "!pip install visualkeras"
      ],
      "metadata": {
        "colab": {
          "base_uri": "https://localhost:8080/"
        },
        "id": "IHDxjebpwURU",
        "outputId": "a94555ac-2961-4fc1-a4a9-c6584529242c"
      },
      "execution_count": 21,
      "outputs": [
        {
          "output_type": "stream",
          "name": "stdout",
          "text": [
            "Looking in indexes: https://pypi.org/simple, https://us-python.pkg.dev/colab-wheels/public/simple/\n",
            "Collecting visualkeras\n",
            "  Downloading visualkeras-0.0.2-py3-none-any.whl (12 kB)\n",
            "Requirement already satisfied: pillow>=6.2.0 in /usr/local/lib/python3.7/dist-packages (from visualkeras) (7.1.2)\n",
            "Requirement already satisfied: numpy>=1.18.1 in /usr/local/lib/python3.7/dist-packages (from visualkeras) (1.21.6)\n",
            "Collecting aggdraw>=1.3.11\n",
            "  Downloading aggdraw-1.3.15-cp37-cp37m-manylinux_2_17_x86_64.manylinux2014_x86_64.whl (989 kB)\n",
            "\u001b[K     |████████████████████████████████| 989 kB 22.7 MB/s \n",
            "\u001b[?25hInstalling collected packages: aggdraw, visualkeras\n",
            "Successfully installed aggdraw-1.3.15 visualkeras-0.0.2\n"
          ]
        }
      ]
    },
    {
      "cell_type": "code",
      "source": [
        "import visualkeras\n",
        "visualkeras.layered_view(model)"
      ],
      "metadata": {
        "colab": {
          "base_uri": "https://localhost:8080/",
          "height": 156
        },
        "id": "7CglzDByt-4m",
        "outputId": "07fdde70-6fa1-4075-f77e-9c59050d24e3"
      },
      "execution_count": 22,
      "outputs": [
        {
          "output_type": "execute_result",
          "data": {
            "text/plain": [
              "<PIL.Image.Image image mode=RGBA size=651x139 at 0x7F0ECA5E04D0>"
            ],
            "image/png": "[encoded data removed]"
          },
          "metadata": {},
          "execution_count": 22
        }
      ]
    },
    {
      "cell_type": "code",
      "source": [
        ""
      ],
      "metadata": {
        "id": "d9R9qaUUwPeV"
      },
      "execution_count": 22,
      "outputs": []
    }
  ]
}