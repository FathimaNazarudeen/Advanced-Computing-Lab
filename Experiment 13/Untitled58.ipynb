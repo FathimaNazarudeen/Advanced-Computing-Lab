{
  "nbformat": 4,
  "nbformat_minor": 0,
  "metadata": {
    "colab": {
      "name": "Untitled58.ipynb",
      "provenance": [],
      "mount_file_id": "1iS50HBFLWZbHpEdqe5sqjZ3-1jj0eUzp",
      "authorship_tag": "ABX9TyPiczaMTKZJSzSHHpCfANyk",
      "include_colab_link": true
    },
    "kernelspec": {
      "name": "python3",
      "display_name": "Python 3"
    },
    "language_info": {
      "name": "python"
    },
    "accelerator": "GPU",
    "gpuClass": "standard"
  },
  "cells": [
    {
      "cell_type": "markdown",
      "metadata": {
        "id": "view-in-github",
        "colab_type": "text"
      },
      "source": [
        "<a href=\"https://colab.research.google.com/github/FathimaNazarudeen/Advanced-Computing-Lab/blob/main/Experiment%2013/Untitled58.ipynb\" target=\"_parent\"><img src=\"https://colab.research.google.com/assets/colab-badge.svg\" alt=\"Open In Colab\"/></a>"
      ]
    },
    {
      "cell_type": "code",
      "source": [
        ""
      ],
      "metadata": {
        "id": "hdqPv6LBuPEc"
      },
      "execution_count": null,
      "outputs": []
    },
    {
      "cell_type": "code",
      "execution_count": 1,
      "metadata": {
        "id": "XTR0zN9TnIEB"
      },
      "outputs": [],
      "source": [
        "import pandas as pd\n",
        "import tensorflow as tf\n",
        "import matplotlib.pyplot as plt"
      ]
    },
    {
      "cell_type": "code",
      "source": [
        "from google.colab import files"
      ],
      "metadata": {
        "id": "BQ814uXbnW-p"
      },
      "execution_count": 2,
      "outputs": []
    },
    {
      "cell_type": "code",
      "source": [
        "from keras.preprocessing.image import ImageDataGenerator"
      ],
      "metadata": {
        "id": "JxJpkh4SoSFl"
      },
      "execution_count": 3,
      "outputs": []
    },
    {
      "cell_type": "code",
      "source": [
        "train_datagen=ImageDataGenerator(rescale=1./255)"
      ],
      "metadata": {
        "id": "agl4iqT3ukXb"
      },
      "execution_count": 4,
      "outputs": []
    },
    {
      "cell_type": "code",
      "source": [
        "valid_datagen=ImageDataGenerator(rescale=1./255,validation_split=0.25)"
      ],
      "metadata": {
        "id": "7zUObvwguMQ0"
      },
      "execution_count": 5,
      "outputs": []
    },
    {
      "cell_type": "code",
      "source": [
        "train_dir=\"/content/drive/MyDrive/casting_data/data/train\""
      ],
      "metadata": {
        "id": "hh6Rdjyru4Or"
      },
      "execution_count": 6,
      "outputs": []
    },
    {
      "cell_type": "code",
      "source": [
        "valid_dir=(\"/content/drive/MyDrive/casting_data/data/val\")"
      ],
      "metadata": {
        "id": "bFjo5YF0wu-P"
      },
      "execution_count": 7,
      "outputs": []
    },
    {
      "cell_type": "code",
      "source": [
        "train_data=train_datagen.flow_from_directory(train_dir,target_size=(224, 224),batch_size=32,class_mode=\"binary\",seed=42)"
      ],
      "metadata": {
        "colab": {
          "base_uri": "https://localhost:8080/"
        },
        "id": "S4iEzreyvFDY",
        "outputId": "cd9cddab-1e09-4873-ef5a-6713689ed836"
      },
      "execution_count": 8,
      "outputs": [
        {
          "output_type": "stream",
          "name": "stdout",
          "text": [
            "Found 3192 images belonging to 2 classes.\n"
          ]
        }
      ]
    },
    {
      "cell_type": "code",
      "source": [
        "valid_data=valid_datagen.flow_from_directory(valid_dir,target_size=(224, 224),batch_size=32,class_mode=\"binary\",seed=42)"
      ],
      "metadata": {
        "colab": {
          "base_uri": "https://localhost:8080/"
        },
        "id": "0gV_0LA1u_to",
        "outputId": "e6901ca6-164d-4ec1-dc76-7ec267e1599d"
      },
      "execution_count": 12,
      "outputs": [
        {
          "output_type": "stream",
          "name": "stdout",
          "text": [
            "Found 398 images belonging to 2 classes.\n"
          ]
        }
      ]
    },
    {
      "cell_type": "code",
      "source": [
        "model_1=tf.keras.models.Sequential([tf.keras.layers.Conv2D(filters=10,kernel_size=3,activation=\"relu\",input_shape=(224,224,3)),tf.keras.layers.Conv2D(10,3,activation=\"relu\"),\n",
        "                                    tf.keras.layers.MaxPool2D(pool_size=2,padding=\"valid\"),tf.keras.layers.Conv2D(10,3,activation=\"relu\"),tf.keras.layers.Conv2D(10,3,activation=\"relu\"),\n",
        "                                    tf.keras.layers.MaxPool2D(2),tf.keras.layers.Flatten(),\n",
        "                                    tf.keras.layers.Dense(1,activation=\"sigmoid\")])"
      ],
      "metadata": {
        "id": "xkHGrWBOwNOg"
      },
      "execution_count": 13,
      "outputs": []
    },
    {
      "cell_type": "code",
      "source": [
        "model_1.compile(loss=\"binary_crossentropy\",optimizer=tf.keras.optimizers.Adam(),metrics=[\"accuracy\"])"
      ],
      "metadata": {
        "id": "Sg3cSsSVzZcC"
      },
      "execution_count": 14,
      "outputs": []
    },
    {
      "cell_type": "code",
      "source": [
        "history_1=model_1.fit(train_data,epochs=5,steps_per_epoch=(len(train_data)/32),validation_data=valid_data,validation_steps=len(valid_data))"
      ],
      "metadata": {
        "colab": {
          "base_uri": "https://localhost:8080/"
        },
        "id": "6-oy8W2CzwYa",
        "outputId": "8e4298bf-0491-4f99-86a9-3abc4165fd7d"
      },
      "execution_count": 15,
      "outputs": [
        {
          "output_type": "stream",
          "name": "stdout",
          "text": [
            "Epoch 1/5\n",
            "3/3 [==============================] - 113s 48s/step - loss: 0.5853 - accuracy: 0.8047 - val_loss: 0.6722 - val_accuracy: 0.7236\n",
            "Epoch 2/5\n",
            "3/3 [==============================] - 9s 3s/step - loss: 0.6541 - accuracy: 0.6953 - val_loss: 0.5877 - val_accuracy: 0.7236\n",
            "Epoch 3/5\n",
            "3/3 [==============================] - 11s 4s/step - loss: 0.6318 - accuracy: 0.6719 - val_loss: 0.6307 - val_accuracy: 0.7236\n",
            "Epoch 4/5\n",
            "3/3 [==============================] - 10s 3s/step - loss: 0.6107 - accuracy: 0.7656 - val_loss: 0.5912 - val_accuracy: 0.7236\n",
            "Epoch 5/5\n",
            "3/3 [==============================] - 11s 4s/step - loss: 0.5709 - accuracy: 0.7422 - val_loss: 0.5898 - val_accuracy: 0.7236\n"
          ]
        }
      ]
    },
    {
      "cell_type": "code",
      "source": [
        "valid_data.class_indices"
      ],
      "metadata": {
        "colab": {
          "base_uri": "https://localhost:8080/"
        },
        "id": "DedbICM24hnJ",
        "outputId": "08e1be3d-1b97-4f6c-d7e5-5fd2a0a16c18"
      },
      "execution_count": 16,
      "outputs": [
        {
          "output_type": "execute_result",
          "data": {
            "text/plain": [
              "{'def_front': 0, 'ok_front': 1}"
            ]
          },
          "metadata": {},
          "execution_count": 16
        }
      ]
    },
    {
      "cell_type": "code",
      "source": [
        "from tensorflow.keras.preprocessing import image"
      ],
      "metadata": {
        "id": "16mb73vh4xyF"
      },
      "execution_count": 18,
      "outputs": []
    },
    {
      "cell_type": "code",
      "source": [
        "def predictImage(filename):\n",
        "  img1=image.load_img(filename,target_size=(224,224))\n",
        "  plt.imshow(img1)\n",
        "  Y=image.img_to_array(img1)\n",
        "  X=np.expand_dims(Y,axis=0)\n",
        "  val=model_1.predict(X)\n",
        "  print(val)\n",
        "  if val==1:\n",
        "  plt.xlabel(\"def_front\",fontsize=30)\n",
        "  elif val==0:\n",
        "    plt.xlabel(\"ok_front\",fontsize=30)"
      ],
      "metadata": {
        "colab": {
          "base_uri": "https://localhost:8080/",
          "height": 130
        },
        "id": "NJerh8Rs4_ez",
        "outputId": "5bc042a0-d4cb-4899-e504-e7586f59f5a1"
      },
      "execution_count": 23,
      "outputs": [
        {
          "output_type": "error",
          "ename": "IndentationError",
          "evalue": "ignored",
          "traceback": [
            "\u001b[0;36m  File \u001b[0;32m\"<ipython-input-23-ceee83fc5dea>\"\u001b[0;36m, line \u001b[0;32m9\u001b[0m\n\u001b[0;31m    plt.xlabel(\"def_front\",fontsize=30)\u001b[0m\n\u001b[0m      ^\u001b[0m\n\u001b[0;31mIndentationError\u001b[0m\u001b[0;31m:\u001b[0m expected an indented block\n"
          ]
        }
      ]
    },
    {
      "cell_type": "code",
      "source": [
        ""
      ],
      "metadata": {
        "id": "2A3CW77J47E4"
      },
      "execution_count": null,
      "outputs": []
    }
  ]
}