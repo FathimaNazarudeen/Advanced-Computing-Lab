{
  "nbformat": 4,
  "nbformat_minor": 0,
  "metadata": {
    "colab": {
      "name": "Untitled18.ipynb",
      "provenance": [],
      "authorship_tag": "ABX9TyPrcqVf5XEKAcMhIxMxOHyF",
      "include_colab_link": true
    },
    "kernelspec": {
      "name": "python3",
      "display_name": "Python 3"
    },
    "language_info": {
      "name": "python"
    }
  },
  "cells": [
    {
      "cell_type": "markdown",
      "metadata": {
        "id": "view-in-github",
        "colab_type": "text"
      },
      "source": [
        "<a href=\"https://colab.research.google.com/github/FathimaNazarudeen/Advanced-Computing-Lab/blob/main/Experiment%202/svm%20iris%20nonlinear.ipynb\" target=\"_parent\"><img src=\"https://colab.research.google.com/assets/colab-badge.svg\" alt=\"Open In Colab\"/></a>"
      ]
    },
    {
      "cell_type": "code",
      "execution_count": 10,
      "metadata": {
        "id": "kYeVqwIrTZ5_"
      },
      "outputs": [],
      "source": [
        "from sklearn.datasets import load_iris\n",
        "file=load_iris()\n",
        "X=file.data\n",
        "Y=file.target"
      ]
    },
    {
      "cell_type": "code",
      "source": [
        "from sklearn.model_selection import train_test_split\n",
        "xtrain,xtest,ytrain,ytest=train_test_split(X,Y,test_size=0.3)"
      ],
      "metadata": {
        "id": "jATgcehkUEzv"
      },
      "execution_count": 11,
      "outputs": []
    },
    {
      "cell_type": "code",
      "source": [
        "from sklearn.svm import SVC\n",
        "ml=SVC(C=1.0,kernel=\"poly\")\n",
        "ml=ml.fit(xtrain,ytrain)\n",
        "res=ml.predict(xtest)"
      ],
      "metadata": {
        "id": "ahmcQImeUJXn"
      },
      "execution_count": 12,
      "outputs": []
    },
    {
      "cell_type": "code",
      "source": [
        "from sklearn.metrics import accuracy_score\n",
        "score=accuracy_score(ytest,res)\n",
        "print(score*100)"
      ],
      "metadata": {
        "colab": {
          "base_uri": "https://localhost:8080/"
        },
        "id": "fBw9tSVoUMzd",
        "outputId": "f7d041cb-abb6-43d7-cef3-faa56d91d8b1"
      },
      "execution_count": 13,
      "outputs": [
        {
          "output_type": "stream",
          "name": "stdout",
          "text": [
            "97.77777777777777\n"
          ]
        }
      ]
    }
  ]
}