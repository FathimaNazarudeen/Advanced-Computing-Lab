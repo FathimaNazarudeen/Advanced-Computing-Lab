{
  "nbformat": 4,
  "nbformat_minor": 0,
  "metadata": {
    "colab": {
      "name": "Untitled17.ipynb",
      "provenance": [],
      "authorship_tag": "ABX9TyOU331PF/+PQczcs1CM93WW",
      "include_colab_link": true
    },
    "kernelspec": {
      "name": "python3",
      "display_name": "Python 3"
    },
    "language_info": {
      "name": "python"
    }
  },
  "cells": [
    {
      "cell_type": "markdown",
      "metadata": {
        "id": "view-in-github",
        "colab_type": "text"
      },
      "source": [
        "<a href=\"https://colab.research.google.com/github/FathimaNazarudeen/Advanced-Computing-Lab/blob/main/Experiment%202/svm%20iris%20linear%202nd.ipynb\" target=\"_parent\"><img src=\"https://colab.research.google.com/assets/colab-badge.svg\" alt=\"Open In Colab\"/></a>"
      ]
    },
    {
      "cell_type": "code",
      "execution_count": 1,
      "metadata": {
        "id": "wy3rQGRTR3jo"
      },
      "outputs": [],
      "source": [
        "from sklearn.datasets import load_iris\n",
        "file=load_iris()\n",
        "X=file.data\n",
        "Y=file.target"
      ]
    },
    {
      "cell_type": "code",
      "source": [
        "from sklearn.model_selection import train_test_split\n",
        "xtrain,xtest,ytrain,ytest=train_test_split(X,Y,test_size=0.3)"
      ],
      "metadata": {
        "id": "-zjAeqDMSBmG"
      },
      "execution_count": 2,
      "outputs": []
    },
    {
      "cell_type": "code",
      "source": [
        "from sklearn.svm import SVC\n",
        "ml=SVC(kernel=\"linear\",C=22)\n",
        "ml=ml.fit(xtrain,ytrain)\n",
        "res=ml.predict(xtest)\n",
        "print(res)"
      ],
      "metadata": {
        "colab": {
          "base_uri": "https://localhost:8080/"
        },
        "id": "pZHiEHI5SI9V",
        "outputId": "d177c71d-2c58-42bd-ed7c-c78b88b2599d"
      },
      "execution_count": 3,
      "outputs": [
        {
          "output_type": "stream",
          "name": "stdout",
          "text": [
            "[0 0 0 2 0 0 0 2 1 2 0 0 0 2 2 1 2 2 2 0 0 2 1 2 1 2 2 1 2 0 1 0 2 0 0 0 0\n",
            " 0 1 1 0 1 2 1 2]\n"
          ]
        }
      ]
    },
    {
      "cell_type": "code",
      "source": [
        "from sklearn.metrics import accuracy_score\n",
        "score=accuracy_score(ytest,res)\n",
        "print(score*100)"
      ],
      "metadata": {
        "colab": {
          "base_uri": "https://localhost:8080/"
        },
        "id": "N4kZAMqoSOHY",
        "outputId": "2419ff06-ece9-4eb0-da55-fac490e1b15e"
      },
      "execution_count": 4,
      "outputs": [
        {
          "output_type": "stream",
          "name": "stdout",
          "text": [
            "97.77777777777777\n"
          ]
        }
      ]
    }
  ]
}