{
  "nbformat": 4,
  "nbformat_minor": 0,
  "metadata": {
    "colab": {
      "name": "Untitled22.ipynb",
      "provenance": [],
      "authorship_tag": "ABX9TyPRDGw7Fm19uYIqlTVGvEIG",
      "include_colab_link": true
    },
    "kernelspec": {
      "name": "python3",
      "display_name": "Python 3"
    },
    "language_info": {
      "name": "python"
    }
  },
  "cells": [
    {
      "cell_type": "markdown",
      "metadata": {
        "id": "view-in-github",
        "colab_type": "text"
      },
      "source": [
        "<a href=\"https://colab.research.google.com/github/FathimaNazarudeen/Advanced-Computing-Lab/blob/main/Experiment%202/kaggle%20nonlinear.ipynb\" target=\"_parent\"><img src=\"https://colab.research.google.com/assets/colab-badge.svg\" alt=\"Open In Colab\"/></a>"
      ]
    },
    {
      "cell_type": "code",
      "execution_count": 11,
      "metadata": {
        "id": "cdOaHPwRZjb5"
      },
      "outputs": [],
      "source": [
        "import pandas as pd\n",
        "file=pd.read_csv(\"/content/seeds.csv\")\n",
        "X=file[[\"Area\",\t\"Perimeter\",\"Compactness\",\t\"Kernel.Length\",\"Kernel.Width\",\t\"Asymmetry.Coeff\",\t\"Kernel.Groove\"]]\n",
        "Y=file[\"Type\"]"
      ]
    },
    {
      "cell_type": "code",
      "source": [
        "from sklearn.model_selection import train_test_split\n",
        "xtrain,xtest,ytrain,ytest=train_test_split(X,Y,test_size=0.2)\n",
        "from sklearn.svm import SVC\n",
        "ML=SVC(kernel=\"poly\")\n",
        "ML=ML.fit(xtrain,ytrain)\n",
        "res=ML.predict(xtest)\n",
        "from sklearn.metrics import accuracy_score\n",
        "ac=accuracy_score(res,ytest)\n",
        "print(ac*100)"
      ],
      "metadata": {
        "colab": {
          "base_uri": "https://localhost:8080/"
        },
        "id": "qyYPKoZ5angn",
        "outputId": "6a7218a8-63b6-4ba4-c952-d06e7cda1afb"
      },
      "execution_count": 12,
      "outputs": [
        {
          "output_type": "stream",
          "name": "stdout",
          "text": [
            "90.0\n"
          ]
        }
      ]
    }
  ]
}